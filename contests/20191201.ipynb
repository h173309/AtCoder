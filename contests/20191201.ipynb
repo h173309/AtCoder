{
 "cells": [
  {
   "cell_type": "markdown",
   "metadata": {},
   "source": [
    "# [AtCoder](https://atcoder.jp/)"
   ]
  },
  {
   "cell_type": "markdown",
   "metadata": {},
   "source": [
    "### 計算量\n",
    "- $N \\simeq 10^6$ → $O(N)$ or $O(N \\log N)$\n",
    "- $N \\simeq 10^5$ → $O(N \\log N)$ or $O(N \\log^2 N)$\n",
    "- $N \\simeq 3000$ → $O(N^2)$\n",
    "- $N \\simeq 300$  → $O(N^3)$ *シンプルな処理\n",
    "- $N \\simeq 100$  → $O(N^3)$\n",
    "- $N \\simeq 50$   → $O(N^4)$\n",
    "- $N \\simeq 20$   → $O(2^N)$"
   ]
  },
  {
   "cell_type": "markdown",
   "metadata": {},
   "source": [
    "### JupyterLab入力"
   ]
  },
  {
   "cell_type": "code",
   "execution_count": 1,
   "metadata": {},
   "outputs": [
    {
     "data": {
      "application/vnd.jupyter.widget-view+json": {
       "model_id": "",
       "version_major": 2,
       "version_minor": 0
      },
      "text/plain": [
       "Textarea(value='')"
      ]
     },
     "metadata": {},
     "output_type": "display_data"
    }
   ],
   "source": [
    "from ipywidgets import Textarea\n",
    "\n",
    "def get_input(change):\n",
    "    global inputs\n",
    "    inputs = change['new'].split('\\n')\n",
    "\n",
    "textarea = Textarea()\n",
    "textarea.observe(get_input, names='value')\n",
    "display(textarea)"
   ]
  },
  {
   "cell_type": "markdown",
   "metadata": {},
   "source": [
    "### テンプレートインポート"
   ]
  },
  {
   "cell_type": "code",
   "execution_count": 2,
   "metadata": {},
   "outputs": [],
   "source": [
    "from IPython.core.interactiveshell import InteractiveShell\n",
    "InteractiveShell.ast_node_interactivity = 'all'\n",
    "import warnings\n",
    "warnings.simplefilter('ignore')"
   ]
  },
  {
   "cell_type": "code",
   "execution_count": 3,
   "metadata": {},
   "outputs": [],
   "source": [
    "import sys\n",
    "sys.setrecursionlimit(10**6)\n",
    "\n",
    "from copy import deepcopy\n",
    "\n",
    "from fractions import gcd\n",
    "lcm = lambda x, y : x*y // gcd(x, y)\n",
    "from math import floor, ceil\n",
    "from statistics import median, median_low, mode, mean\n",
    "\n",
    "from collections import defaultdict\n",
    "from collections import Counter\n",
    "from collections import deque\n",
    "\n",
    "import bisect\n",
    "bisect_left = bisect.bisect_left\n",
    "\n",
    "from itertools import accumulate\n",
    "from itertools import chain\n",
    "chain_from_iterable = chain.from_iterable\n",
    "from itertools import groupby\n",
    "from itertools import permutations\n",
    "from itertools import combinations\n",
    "from itertools import product\n",
    "from itertools import combinations_with_replacement\n",
    "\n",
    "from functools import reduce\n",
    "from operator import itemgetter, methodcaller\n",
    "\n",
    "import heapq\n",
    "from heapq import heapify, heappush, heappop, _heapify_max\n",
    "def _heappush_max(heap, item):\n",
    "    heap.append(item)\n",
    "    heapq._siftdown_max(heap, 0, len(heap)-1)\n",
    "def _heappop_max(heap):\n",
    "    lastelt = heap.pop()\n",
    "    if heap:\n",
    "        returnitem = heap[0]\n",
    "        heap[0] = lastelt\n",
    "        heapq._siftup_max(heap, 0)\n",
    "        return returnitem\n",
    "    return lastelt\n",
    "\n",
    "import numpy as np\n",
    "from scipy.ndimage import distance_transform_cdt\n",
    "from scipy.sparse.csgraph import shortest_path, floyd_warshall, dijkstra, bellman_ford, johnson\n",
    "from scipy.sparse import csr_matrix\n",
    "from scipy.optimize import newton\n",
    "\n",
    "index_max = lambda l: max(enumerate(l), key=lambda x:x[1])\n",
    "index_min = lambda l: min(enumerate(l), key=lambda x:x[1])"
   ]
  },
  {
   "cell_type": "markdown",
   "metadata": {},
   "source": [
    "### 入力テンプレート"
   ]
  },
  {
   "cell_type": "raw",
   "metadata": {},
   "source": [
    "A B"
   ]
  },
  {
   "cell_type": "raw",
   "metadata": {},
   "source": [
    "A, B = map(int, inputs[0].split())"
   ]
  },
  {
   "cell_type": "raw",
   "metadata": {},
   "source": [
    "N\n",
    "a1 a2 ... an"
   ]
  },
  {
   "cell_type": "raw",
   "metadata": {},
   "source": [
    "N = int(inputs[0])\n",
    "A = list(map(int, inputs[1].split()))"
   ]
  },
  {
   "cell_type": "raw",
   "metadata": {},
   "source": [
    "N\n",
    "a1\n",
    "...\n",
    "an"
   ]
  },
  {
   "cell_type": "raw",
   "metadata": {},
   "source": [
    "N = int(inputs[0])\n",
    "A = list(map(int, inputs[1:]))"
   ]
  },
  {
   "cell_type": "raw",
   "metadata": {},
   "source": [
    "N M\n",
    "a11 a12 ... a1m\n",
    "a21 a22 ... a2m\n",
    "... ... ... ...\n",
    "an1 an2 ... anm"
   ]
  },
  {
   "cell_type": "raw",
   "metadata": {},
   "source": [
    "N, M = map(int, inputs[0].split())\n",
    "A = [list(map(int, x.split())) for x in inputs[1:]]"
   ]
  },
  {
   "cell_type": "markdown",
   "metadata": {},
   "source": [
    "# 1"
   ]
  },
  {
   "cell_type": "markdown",
   "metadata": {},
   "source": [
    "sample data 1"
   ]
  },
  {
   "cell_type": "raw",
   "metadata": {},
   "source": []
  },
  {
   "cell_type": "raw",
   "metadata": {},
   "source": []
  },
  {
   "cell_type": "raw",
   "metadata": {},
   "source": [
    "import sys\n",
    "inputs = sys.stdin.readlines()"
   ]
  },
  {
   "cell_type": "code",
   "execution_count": null,
   "metadata": {},
   "outputs": [],
   "source": [
    "m1, d1 = map(int, input().split())\n",
    "m2, d2 = map(int, input().split())\n",
    "\n",
    "if m1 == m2:\n",
    "    print(0)\n",
    "else:\n",
    "    print(1)"
   ]
  },
  {
   "cell_type": "markdown",
   "metadata": {},
   "source": [
    "# 2"
   ]
  },
  {
   "cell_type": "markdown",
   "metadata": {},
   "source": [
    "sample data 1"
   ]
  },
  {
   "cell_type": "raw",
   "metadata": {},
   "source": []
  },
  {
   "cell_type": "raw",
   "metadata": {},
   "source": []
  },
  {
   "cell_type": "markdown",
   "metadata": {},
   "source": [
    "sample data 2"
   ]
  },
  {
   "cell_type": "raw",
   "metadata": {},
   "source": []
  },
  {
   "cell_type": "raw",
   "metadata": {},
   "source": []
  },
  {
   "cell_type": "markdown",
   "metadata": {},
   "source": [
    "boundary data 1"
   ]
  },
  {
   "cell_type": "raw",
   "metadata": {},
   "source": []
  },
  {
   "cell_type": "raw",
   "metadata": {},
   "source": []
  },
  {
   "cell_type": "raw",
   "metadata": {},
   "source": [
    "import sys\n",
    "inputs = sys.stdin.readlines()"
   ]
  },
  {
   "cell_type": "code",
   "execution_count": 27,
   "metadata": {},
   "outputs": [
    {
     "name": "stdout",
     "output_type": "stream",
     "text": [
      ":(\n"
     ]
    }
   ],
   "source": [
    "n = int(inputs[0])\n",
    "x = ceil(n / 1.08)\n",
    "if int(x*1.08) == n:\n",
    "    print(x)\n",
    "else:\n",
    "    print(':(')"
   ]
  },
  {
   "cell_type": "markdown",
   "metadata": {},
   "source": [
    "# 3"
   ]
  },
  {
   "cell_type": "markdown",
   "metadata": {},
   "source": [
    "sample data 1"
   ]
  },
  {
   "cell_type": "raw",
   "metadata": {},
   "source": []
  },
  {
   "cell_type": "raw",
   "metadata": {},
   "source": []
  },
  {
   "cell_type": "markdown",
   "metadata": {},
   "source": [
    "sample data 2"
   ]
  },
  {
   "cell_type": "raw",
   "metadata": {},
   "source": []
  },
  {
   "cell_type": "raw",
   "metadata": {},
   "source": []
  },
  {
   "cell_type": "markdown",
   "metadata": {},
   "source": [
    "boundary data 1"
   ]
  },
  {
   "cell_type": "raw",
   "metadata": {},
   "source": []
  },
  {
   "cell_type": "raw",
   "metadata": {},
   "source": []
  },
  {
   "cell_type": "raw",
   "metadata": {},
   "source": [
    "import sys\n",
    "inputs = sys.stdin.readlines()"
   ]
  },
  {
   "cell_type": "code",
   "execution_count": 17,
   "metadata": {},
   "outputs": [
    {
     "data": {
      "text/plain": [
       "(1, 2)"
      ]
     },
     "execution_count": 17,
     "metadata": {},
     "output_type": "execute_result"
    },
    {
     "name": "stdout",
     "output_type": "stream",
     "text": [
      "0\n"
     ]
    }
   ],
   "source": [
    "x = int(inputs[0])\n",
    "q, r = divmod(x, 100)\n",
    "nb_need = ceil(r / 5)\n",
    "if  q >= nb_need:\n",
    "    print(1)\n",
    "else:\n",
    "    print(0)"
   ]
  },
  {
   "cell_type": "markdown",
   "metadata": {},
   "source": [
    "# 4"
   ]
  },
  {
   "cell_type": "markdown",
   "metadata": {},
   "source": [
    "sample data 1"
   ]
  },
  {
   "cell_type": "raw",
   "metadata": {},
   "source": []
  },
  {
   "cell_type": "raw",
   "metadata": {},
   "source": []
  },
  {
   "cell_type": "markdown",
   "metadata": {},
   "source": [
    "sample data 2"
   ]
  },
  {
   "cell_type": "raw",
   "metadata": {},
   "source": []
  },
  {
   "cell_type": "raw",
   "metadata": {},
   "source": []
  },
  {
   "cell_type": "markdown",
   "metadata": {},
   "source": [
    "boundary data 1"
   ]
  },
  {
   "cell_type": "raw",
   "metadata": {},
   "source": []
  },
  {
   "cell_type": "raw",
   "metadata": {},
   "source": []
  },
  {
   "cell_type": "raw",
   "metadata": {},
   "source": [
    "import sys\n",
    "inputs = sys.stdin.readlines()"
   ]
  },
  {
   "cell_type": "code",
   "execution_count": 56,
   "metadata": {},
   "outputs": [
    {
     "name": "stdout",
     "output_type": "stream",
     "text": [
      "329\n"
     ]
    }
   ],
   "source": [
    "n = int(inputs[0])\n",
    "s = inputs[1].strip()\n",
    "passwords = set()\n",
    "for i in range(10):\n",
    "    if str(i) in s[:-2]:\n",
    "        pw1 = '{}'.format(i)\n",
    "        idx1 = s.index(str(i)) + 1\n",
    "        for j in range(10):\n",
    "            if str(j) in s[idx1:-1]:\n",
    "                pw2 = '{}{}'.format(pw1, j) \n",
    "                idx2 = idx1 + s[idx1:].index(str(j)) + 1\n",
    "                for k in range(10):\n",
    "                    if str(k) in s[idx2:]:\n",
    "                        passwords.add('{}{}'.format(pw2, k))\n",
    "print(len(passwords))"
   ]
  },
  {
   "cell_type": "markdown",
   "metadata": {},
   "source": [
    "# 5"
   ]
  },
  {
   "cell_type": "markdown",
   "metadata": {},
   "source": [
    "sample data 1"
   ]
  },
  {
   "cell_type": "raw",
   "metadata": {},
   "source": []
  },
  {
   "cell_type": "raw",
   "metadata": {},
   "source": []
  },
  {
   "cell_type": "markdown",
   "metadata": {},
   "source": [
    "sample data 2"
   ]
  },
  {
   "cell_type": "raw",
   "metadata": {},
   "source": []
  },
  {
   "cell_type": "raw",
   "metadata": {},
   "source": []
  },
  {
   "cell_type": "markdown",
   "metadata": {},
   "source": [
    "boundary data 1"
   ]
  },
  {
   "cell_type": "raw",
   "metadata": {},
   "source": []
  },
  {
   "cell_type": "raw",
   "metadata": {},
   "source": []
  },
  {
   "cell_type": "raw",
   "metadata": {},
   "source": [
    "import sys\n",
    "inputs = sys.stdin.readlines()"
   ]
  },
  {
   "cell_type": "code",
   "execution_count": 79,
   "metadata": {},
   "outputs": [
    {
     "name": "stdout",
     "output_type": "stream",
     "text": [
      "0\n"
     ]
    }
   ],
   "source": [
    "from functools import reduce\n",
    "from operator import mul\n",
    "\n",
    "n = int(inputs[0])\n",
    "A = list(map(int, inputs[1].split()))\n",
    "B = {0:0, 1:0, 2:0}\n",
    "C = []\n",
    "mod = 1000000007\n",
    "for i in range(n):\n",
    "    matches = [int(nb == A[i]) for nb in B.values()]\n",
    "    if sum(matches) == 1:\n",
    "        B[matches.index(1)] += 1\n",
    "    elif sum(matches) == 2:\n",
    "        B[matches.index(1)] += 1\n",
    "        C.append(2)\n",
    "    elif sum(matches) == 3:\n",
    "        B[matches.index(1)] += 1\n",
    "        C.append(3)\n",
    "    else:\n",
    "        print(0)\n",
    "        break\n",
    "else:\n",
    "    print(reduce(mul, C) % mod)\n"
   ]
  },
  {
   "cell_type": "markdown",
   "metadata": {},
   "source": [
    "# 6"
   ]
  },
  {
   "cell_type": "markdown",
   "metadata": {},
   "source": [
    "sample data 1"
   ]
  },
  {
   "cell_type": "raw",
   "metadata": {},
   "source": []
  },
  {
   "cell_type": "raw",
   "metadata": {},
   "source": []
  },
  {
   "cell_type": "markdown",
   "metadata": {},
   "source": [
    "sample data 2"
   ]
  },
  {
   "cell_type": "raw",
   "metadata": {},
   "source": []
  },
  {
   "cell_type": "raw",
   "metadata": {},
   "source": []
  },
  {
   "cell_type": "markdown",
   "metadata": {},
   "source": [
    "boundary data 1"
   ]
  },
  {
   "cell_type": "raw",
   "metadata": {},
   "source": []
  },
  {
   "cell_type": "raw",
   "metadata": {},
   "source": []
  },
  {
   "cell_type": "raw",
   "metadata": {},
   "source": [
    "import sys\n",
    "inputs = sys.stdin.readlines()"
   ]
  },
  {
   "cell_type": "code",
   "execution_count": null,
   "metadata": {},
   "outputs": [],
   "source": []
  }
 ],
 "metadata": {
  "kernelspec": {
   "display_name": "Environment (conda_atcoder)",
   "language": "python",
   "name": "conda_atcoder"
  },
  "language_info": {
   "codemirror_mode": {
    "name": "ipython",
    "version": 3
   },
   "file_extension": ".py",
   "mimetype": "text/x-python",
   "name": "python",
   "nbconvert_exporter": "python",
   "pygments_lexer": "ipython3",
   "version": "3.7.4"
  },
  "widgets": {
   "application/vnd.jupyter.widget-state+json": {
    "state": {
     "38189ca2fab84d2bbb028ffaa7b48140": {
      "model_module": "@jupyter-widgets/controls",
      "model_module_version": "1.4.0",
      "model_name": "TextareaModel",
      "state": {
       "_model_module_version": "1.4.0",
       "_view_module_version": "1.4.0",
       "layout": "IPY_MODEL_ea9a7a03c35a42f9bf20a5952445b0a0",
       "style": "IPY_MODEL_e214e9a8ad274174a2e22693deb503b8",
       "value": "4\n0 0 0 0"
      }
     },
     "e214e9a8ad274174a2e22693deb503b8": {
      "model_module": "@jupyter-widgets/controls",
      "model_module_version": "1.4.0",
      "model_name": "DescriptionStyleModel",
      "state": {
       "_model_module_version": "1.4.0",
       "_view_module_version": "1.1.0",
       "description_width": ""
      }
     },
     "ea9a7a03c35a42f9bf20a5952445b0a0": {
      "model_module": "@jupyter-widgets/base",
      "model_module_version": "1.1.0",
      "model_name": "LayoutModel",
      "state": {
       "_model_module_version": "1.1.0",
       "_view_module_version": "1.1.0"
      }
     }
    },
    "version_major": 2,
    "version_minor": 0
   }
  }
 },
 "nbformat": 4,
 "nbformat_minor": 4
}
