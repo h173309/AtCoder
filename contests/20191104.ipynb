{
 "cells": [
  {
   "cell_type": "markdown",
   "metadata": {},
   "source": [
    "### 計算量\n",
    "- $N \\simeq 10^6$ → $O(N)$ or $O(N \\log N)$\n",
    "- $N \\simeq 10^5$ → $O(N \\log N)$ or $O(N \\log^2 N)$\n",
    "- $N \\simeq 3000$ → $O(N^2)$\n",
    "- $N \\simeq 300$  → $O(N^3)$ *シンプルな処理\n",
    "- $N \\simeq 100$  → $O(N^3)$\n",
    "- $N \\simeq 50$   → $O(N^4)$\n",
    "- $N \\simeq 20$   → $O(2^N)$"
   ]
  },
  {
   "cell_type": "markdown",
   "metadata": {},
   "source": [
    "### JupyterLab入力"
   ]
  },
  {
   "cell_type": "code",
   "execution_count": 1,
   "metadata": {},
   "outputs": [
    {
     "data": {
      "application/vnd.jupyter.widget-view+json": {
       "model_id": "575f3cdd4dbb4c67b713fad3a58ff045",
       "version_major": 2,
       "version_minor": 0
      },
      "text/plain": [
       "Textarea(value='')"
      ]
     },
     "metadata": {},
     "output_type": "display_data"
    }
   ],
   "source": [
    "from ipywidgets import Textarea\n",
    "\n",
    "def get_input(change):\n",
    "    global inputs\n",
    "    inputs = change['new'].split('\\n')\n",
    "\n",
    "textarea = Textarea()\n",
    "textarea.observe(get_input, names='value')\n",
    "display(textarea)"
   ]
  },
  {
   "cell_type": "markdown",
   "metadata": {},
   "source": [
    "### テンプレートインポート"
   ]
  },
  {
   "cell_type": "code",
   "execution_count": 2,
   "metadata": {},
   "outputs": [],
   "source": [
    "from IPython.core.interactiveshell import InteractiveShell\n",
    "InteractiveShell.ast_node_interactivity = 'all'\n",
    "import warnings\n",
    "warnings.simplefilter('ignore')"
   ]
  },
  {
   "cell_type": "code",
   "execution_count": 3,
   "metadata": {},
   "outputs": [],
   "source": [
    "import sys\n",
    "sys.setrecursionlimit(10**6)\n",
    "\n",
    "from copy import deepcopy\n",
    "\n",
    "from fractions import gcd\n",
    "lcm = lambda x, y : x*y // gcd(x, y)\n",
    "from math import floor, ceil\n",
    "from statistics import median, median_low, mode, mean\n",
    "\n",
    "from collections import defaultdict\n",
    "from collections import Counter\n",
    "from collections import deque\n",
    "\n",
    "import bisect\n",
    "bisect_left = bisect.bisect_left\n",
    "\n",
    "from itertools import accumulate\n",
    "from itertools import chain\n",
    "chain_from_iterable = chain.from_iterable\n",
    "from itertools import groupby\n",
    "from itertools import permutations\n",
    "from itertools import combinations\n",
    "from itertools import product\n",
    "from itertools import combinations_with_replacement\n",
    "\n",
    "from functools import reduce\n",
    "\n",
    "\n",
    "from heapq import heapify, heappush, heappop\n",
    "import heapq\n",
    "from heapq import _heapify_max\n",
    "def _heappush_max(heap, item):\n",
    "    heap.append(item)\n",
    "    heapq._siftdown_max(heap, 0, len(heap)-1)\n",
    "def _heappop_max(heap):\n",
    "    lastelt = heap.pop()\n",
    "    if heap:\n",
    "        returnitem = heap[0]\n",
    "        heap[0] = lastelt\n",
    "        heapq._siftup_max(heap, 0)\n",
    "        return returnitem\n",
    "    return lastelt\n",
    "\n",
    "import numpy as np\n",
    "from scipy.ndimage import distance_transform_cdt\n",
    "from scipy.sparse.csgraph import shortest_path\n",
    "from scipy.sparse.csgraph import floyd_warshall\n",
    "from scipy.sparse.csgraph import dijkstra\n",
    "from scipy.sparse.csgraph import bellman_ford\n",
    "from scipy.sparse.csgraph import johnson\n",
    "from scipy.sparse import csr_matrix\n",
    "from scipy.optimize import newton\n",
    "\n",
    "index_max = lambda l: max(enumerate(l), key=lambda x:x[1])\n",
    "index_min = lambda l: min(enumerate(l), key=lambda x:x[1])"
   ]
  },
  {
   "cell_type": "markdown",
   "metadata": {},
   "source": [
    "### 入力テンプレート"
   ]
  },
  {
   "cell_type": "raw",
   "metadata": {},
   "source": [
    "A B"
   ]
  },
  {
   "cell_type": "raw",
   "metadata": {},
   "source": [
    "A, B = map(int, inputs[0].split())"
   ]
  },
  {
   "cell_type": "raw",
   "metadata": {},
   "source": [
    "N\n",
    "a1 a2 ... an"
   ]
  },
  {
   "cell_type": "raw",
   "metadata": {},
   "source": [
    "N = int(inputs[0])\n",
    "A = list(map(int, inputs[1].split()))"
   ]
  },
  {
   "cell_type": "raw",
   "metadata": {},
   "source": [
    "N\n",
    "a1\n",
    "...\n",
    "an"
   ]
  },
  {
   "cell_type": "raw",
   "metadata": {},
   "source": [
    "N = int(inputs[0])\n",
    "A = list(map(int, inputs[1:]))"
   ]
  },
  {
   "cell_type": "raw",
   "metadata": {},
   "source": [
    "N M\n",
    "a11 a12 ... a1m\n",
    "a21 a22 ... a2m\n",
    "... ... ... ...\n",
    "an1 an2 ... anm"
   ]
  },
  {
   "cell_type": "raw",
   "metadata": {},
   "source": [
    "N, M = map(int, inputs[0].split())\n",
    "A = [list(map(int, x.split())) for x in inputs[1:]]"
   ]
  },
  {
   "cell_type": "markdown",
   "metadata": {},
   "source": [
    "# 1"
   ]
  },
  {
   "cell_type": "markdown",
   "metadata": {},
   "source": [
    "sample data 1"
   ]
  },
  {
   "cell_type": "raw",
   "metadata": {},
   "source": []
  },
  {
   "cell_type": "raw",
   "metadata": {},
   "source": []
  },
  {
   "cell_type": "markdown",
   "metadata": {},
   "source": [
    "boundary data 1"
   ]
  },
  {
   "cell_type": "raw",
   "metadata": {},
   "source": []
  },
  {
   "cell_type": "raw",
   "metadata": {},
   "source": []
  },
  {
   "cell_type": "raw",
   "metadata": {},
   "source": [
    "import sys\n",
    "inputs = sys.stdin.readlines()"
   ]
  },
  {
   "cell_type": "code",
   "execution_count": 42,
   "metadata": {},
   "outputs": [
    {
     "data": {
      "text/plain": [
       "10"
      ]
     },
     "execution_count": 42,
     "metadata": {},
     "output_type": "execute_result"
    }
   ],
   "source": [
    "s = inputs[0].strip()\n",
    "\n",
    "p = [len(list(t[1])) for t in groupby(s)]\n",
    "p_ = []\n",
    "if s[0] == '<':\n",
    "    for i in range(0, len(p), 2):\n",
    "        try:\n",
    "            p_.append((p[i], p[i+1]))\n",
    "        except IndexError:\n",
    "            p_.append((p[i], 0))\n",
    "else:\n",
    "    p_.append((0, p[0]))\n",
    "    for i in range(1, len(p), 2):\n",
    "        try:\n",
    "            p_.append((p[i], p[i+1]))\n",
    "        except IndexError:\n",
    "            p_.append((p[i], 0))\n",
    "\n",
    "ans = 0\n",
    "for r1, r2 in p_:\n",
    "    if r1 > r2:\n",
    "        ans += (r1+1)*r1 // 2 + r2*(r2-1) // 2\n",
    "    else:\n",
    "        ans += (r2+1)*r2 // 2 + r1*(r1-1) // 2\n",
    "        \n",
    "print(ans)"
   ]
  },
  {
   "cell_type": "markdown",
   "metadata": {},
   "source": [
    "# 2"
   ]
  },
  {
   "cell_type": "markdown",
   "metadata": {},
   "source": [
    "sample data 1"
   ]
  },
  {
   "cell_type": "raw",
   "metadata": {},
   "source": []
  },
  {
   "cell_type": "raw",
   "metadata": {},
   "source": []
  },
  {
   "cell_type": "markdown",
   "metadata": {},
   "source": [
    "sample data 2"
   ]
  },
  {
   "cell_type": "raw",
   "metadata": {},
   "source": []
  },
  {
   "cell_type": "raw",
   "metadata": {},
   "source": []
  },
  {
   "cell_type": "markdown",
   "metadata": {},
   "source": [
    "boundary data 1"
   ]
  },
  {
   "cell_type": "raw",
   "metadata": {},
   "source": []
  },
  {
   "cell_type": "raw",
   "metadata": {},
   "source": []
  },
  {
   "cell_type": "raw",
   "metadata": {},
   "source": [
    "区間スケジューリングの解が 3 以上のとき、\n",
    "2 回とも楽しさが 1 以上になることはないので、\n",
    "最も長い区間の幅がそのまま答えになる\n",
    " \n",
    "解が 2 のときは、2 回とも楽しさが 1 以上になる場合も存在する\n",
    "これは、重ならない 2 つの区間を取り出して、\n",
    "他の区間がそのどちらと一緒になるか考えれば良い\n",
    "考えると、ある区間が別の区間を完全に被覆する場合、\n",
    "それらは必ず同じグループに含まれることがわかるので、\n",
    "被覆する側の区間（大きい方）は無視できる\n",
    "無視すると、区間の集合が半返し縫いの裏側みたいになるので\n",
    "順に並べてどちらと一緒になるかの境目を全探索すれば良い\n",
    " \n",
    "解が 1 のときは、全ての区間に共通する区間があるので、\n",
    "この区間の中の人を除外して考えると、\n",
    "解が 2 の場合に帰着できる"
   ]
  },
  {
   "cell_type": "raw",
   "metadata": {},
   "source": [
    "import sys\n",
    "inputs = sys.stdin.readlines()"
   ]
  },
  {
   "cell_type": "code",
   "execution_count": 121,
   "metadata": {},
   "outputs": [
    {
     "data": {
      "text/plain": [
       "[459494089,\n",
       " 459494089,\n",
       " 459494089,\n",
       " 459494089,\n",
       " 459494089,\n",
       " 459494089,\n",
       " 459494089,\n",
       " 459494089,\n",
       " 459494089,\n",
       " 459494089]"
      ]
     },
     "execution_count": 121,
     "metadata": {},
     "output_type": "execute_result"
    },
    {
     "data": {
      "text/plain": [
       "[459494089,\n",
       " 512701454,\n",
       " 523506955,\n",
       " 529149798,\n",
       " 636471526,\n",
       " 774276744,\n",
       " 800549465,\n",
       " 814532746,\n",
       " 974637457,\n",
       " 996058008]"
      ]
     },
     "execution_count": 121,
     "metadata": {},
     "output_type": "execute_result"
    },
    {
     "name": "stdout",
     "output_type": "stream",
     "text": [
      "540049931\n"
     ]
    }
   ],
   "source": [
    "from operator import itemgetter\n",
    "N = int(inputs[0])\n",
    "LRs = [list(map(int, x.split())) for x in inputs[1:]]\n",
    "\n",
    "ans = 0\n",
    "for l, r in LRs:\n",
    "    ans = max(ans, r-l+1)\n",
    "LRs = sorted(LRs, key=itemgetter(1))\n",
    " \n",
    "sch, rr = 0, 0\n",
    "for l, r in LRs:\n",
    "    if l >= rr:\n",
    "        rr = r\n",
    "        sch += 1\n",
    "if sch >= 3:\n",
    "    print(ans)\n",
    "else\n",
    "    mid_range = 0\n",
    "    if sch == 1:\n",
    "        mid_l, mid_r = 0, float(\"inf\")\n",
    "        for l, r in LR:\n",
    "            mid_l, mid_r = max(l, mid_l), min(r, mid_r)\n",
    "        mid_range = mid_r - mid_l\n",
    "        for i in range(N):\n",
    "            LR[i][1] -= mid_range\n",
    "        ans += mid_range\n",
    "\n",
    "# 完全に被覆している区間は狭い方だけ残す\n",
    "LR_ = []\n",
    "pl = 0\n",
    "for l, r in LR:\n",
    "    if pl < l:\n",
    "        LR_.append([l, r])\n",
    "        pl = l\n",
    "LR = LR_\n",
    "if len(LR) == 1:\n",
    "    print(ans)\n",
    "else:\n",
    "    Ll, Lr = LR[0]\n",
    "    Rl, Rr = LR[-1][0], LR[1][1]\n",
    "    ans2 = max(Rr-Rl, 0) + Lr-Ll\n",
    "    for i, (l, r) in enumerate(LR[1:-1], 1):\n",
    "        Ll = l\n",
    "        Rr = LR[i+1][1]\n",
    "        ans2 = max(ans2, max(Rr-Rl, 0) + max(Lr-Ll, 0))\n",
    "    ans2 += mid_range * 2\n",
    "    print(max(ans, ans2))"
   ]
  },
  {
   "cell_type": "code",
   "execution_count": 88,
   "metadata": {
    "collapsed": true,
    "jupyter": {
     "outputs_hidden": true
    }
   },
   "outputs": [
    {
     "name": "stdout",
     "output_type": "stream",
     "text": [
      "([0, 1], [2, 3], 6)\n",
      "([2, 3], [0, 1], 6)\n",
      "([0], [1, 2, 3], 5)\n",
      "([0, 1, 2], [3], 5)\n",
      "([3], [0, 1, 2], 5)\n",
      "([1, 2, 3], [0], 5)\n",
      "([1], [0, 2, 3], 4)\n",
      "([2], [0, 1, 3], 4)\n",
      "([0, 1, 3], [2], 4)\n",
      "([0, 2, 3], [1], 4)\n",
      "([0, 2], [1, 3], 2)\n",
      "([1, 2], [0, 3], 2)\n",
      "([0, 3], [1, 2], 2)\n",
      "([1, 3], [0, 2], 2)\n",
      "([0, 1], [2, 3], 6)\n"
     ]
    }
   ],
   "source": [
    "N = int(inputs[0])\n",
    "LRs = [list(map(int, x.split())) for x in inputs[1:]]\n",
    "LRs = sorted(LRs, key=lambda x:sum(x))\n",
    "rets = []\n",
    "for i in range(2 ** N):\n",
    "    firsts, seconds = [], []\n",
    "    for j in range(0, N):\n",
    "        if ((i >> j) & 1):\n",
    "            firsts.append(j)\n",
    "        else:\n",
    "            seconds.append(j)\n",
    "    if not firsts or not seconds:\n",
    "        continue\n",
    "    section1 = [max((LRs[i][0] for i in firsts)), min((LRs[i][1] for i in firsts))]\n",
    "    section2 = [max((LRs[i][0] for i in seconds)), min((LRs[i][1] for i in seconds))]\n",
    "    score = max(section1[1]-section1[0]+1, 0) + max(section2[1]-section2[0]+1, 0)\n",
    "        \n",
    "    rets.append((firsts, seconds, score))\n",
    "for s in sorted(rets, key=lambda x:-x[-1]):\n",
    "    print(s)\n",
    "print(max(rets, key=lambda x:x[-1]))"
   ]
  },
  {
   "cell_type": "markdown",
   "metadata": {},
   "source": [
    "# 3"
   ]
  },
  {
   "cell_type": "markdown",
   "metadata": {},
   "source": [
    "sample data 1"
   ]
  },
  {
   "cell_type": "raw",
   "metadata": {},
   "source": []
  },
  {
   "cell_type": "raw",
   "metadata": {},
   "source": []
  },
  {
   "cell_type": "markdown",
   "metadata": {},
   "source": [
    "sample data 2"
   ]
  },
  {
   "cell_type": "raw",
   "metadata": {},
   "source": []
  },
  {
   "cell_type": "raw",
   "metadata": {},
   "source": []
  },
  {
   "cell_type": "markdown",
   "metadata": {},
   "source": [
    "boundary data 1"
   ]
  },
  {
   "cell_type": "raw",
   "metadata": {},
   "source": []
  },
  {
   "cell_type": "raw",
   "metadata": {},
   "source": []
  },
  {
   "cell_type": "raw",
   "metadata": {},
   "source": [
    "import sys\n",
    "inputs = sys.stdin.readlines()"
   ]
  },
  {
   "cell_type": "code",
   "execution_count": null,
   "metadata": {},
   "outputs": [],
   "source": []
  },
  {
   "cell_type": "markdown",
   "metadata": {},
   "source": [
    "# 4"
   ]
  },
  {
   "cell_type": "markdown",
   "metadata": {},
   "source": [
    "sample data 1"
   ]
  },
  {
   "cell_type": "raw",
   "metadata": {},
   "source": []
  },
  {
   "cell_type": "raw",
   "metadata": {},
   "source": []
  },
  {
   "cell_type": "markdown",
   "metadata": {},
   "source": [
    "sample data 2"
   ]
  },
  {
   "cell_type": "raw",
   "metadata": {},
   "source": []
  },
  {
   "cell_type": "raw",
   "metadata": {},
   "source": []
  },
  {
   "cell_type": "markdown",
   "metadata": {},
   "source": [
    "boundary data 1"
   ]
  },
  {
   "cell_type": "raw",
   "metadata": {},
   "source": []
  },
  {
   "cell_type": "raw",
   "metadata": {},
   "source": []
  },
  {
   "cell_type": "raw",
   "metadata": {},
   "source": [
    "import sys\n",
    "inputs = sys.stdin.readlines()"
   ]
  },
  {
   "cell_type": "code",
   "execution_count": null,
   "metadata": {},
   "outputs": [],
   "source": []
  },
  {
   "cell_type": "markdown",
   "metadata": {},
   "source": [
    "# 5"
   ]
  },
  {
   "cell_type": "markdown",
   "metadata": {},
   "source": [
    "sample data 1"
   ]
  },
  {
   "cell_type": "raw",
   "metadata": {},
   "source": []
  },
  {
   "cell_type": "raw",
   "metadata": {},
   "source": []
  },
  {
   "cell_type": "markdown",
   "metadata": {},
   "source": [
    "sample data 2"
   ]
  },
  {
   "cell_type": "raw",
   "metadata": {},
   "source": []
  },
  {
   "cell_type": "raw",
   "metadata": {},
   "source": []
  },
  {
   "cell_type": "markdown",
   "metadata": {},
   "source": [
    "sample data 3"
   ]
  },
  {
   "cell_type": "raw",
   "metadata": {},
   "source": []
  },
  {
   "cell_type": "raw",
   "metadata": {},
   "source": []
  },
  {
   "cell_type": "markdown",
   "metadata": {},
   "source": [
    "boundary data 1"
   ]
  },
  {
   "cell_type": "raw",
   "metadata": {},
   "source": []
  },
  {
   "cell_type": "raw",
   "metadata": {},
   "source": []
  },
  {
   "cell_type": "markdown",
   "metadata": {},
   "source": [
    "boundary data 2"
   ]
  },
  {
   "cell_type": "raw",
   "metadata": {},
   "source": []
  },
  {
   "cell_type": "raw",
   "metadata": {},
   "source": []
  },
  {
   "cell_type": "raw",
   "metadata": {},
   "source": [
    "import sys\n",
    "inputs = sys.stdin.readlines()"
   ]
  },
  {
   "cell_type": "code",
   "execution_count": null,
   "metadata": {},
   "outputs": [],
   "source": []
  },
  {
   "cell_type": "markdown",
   "metadata": {},
   "source": [
    "# 6"
   ]
  },
  {
   "cell_type": "markdown",
   "metadata": {},
   "source": [
    "sample data 1"
   ]
  },
  {
   "cell_type": "raw",
   "metadata": {},
   "source": []
  },
  {
   "cell_type": "raw",
   "metadata": {},
   "source": []
  },
  {
   "cell_type": "markdown",
   "metadata": {},
   "source": [
    "sample data 2"
   ]
  },
  {
   "cell_type": "raw",
   "metadata": {},
   "source": []
  },
  {
   "cell_type": "raw",
   "metadata": {},
   "source": []
  },
  {
   "cell_type": "markdown",
   "metadata": {},
   "source": [
    "sample data 3"
   ]
  },
  {
   "cell_type": "raw",
   "metadata": {},
   "source": []
  },
  {
   "cell_type": "raw",
   "metadata": {},
   "source": []
  },
  {
   "cell_type": "markdown",
   "metadata": {},
   "source": [
    "boundary data 1"
   ]
  },
  {
   "cell_type": "raw",
   "metadata": {},
   "source": []
  },
  {
   "cell_type": "raw",
   "metadata": {},
   "source": []
  },
  {
   "cell_type": "markdown",
   "metadata": {},
   "source": [
    "boundary data 2"
   ]
  },
  {
   "cell_type": "raw",
   "metadata": {},
   "source": []
  },
  {
   "cell_type": "raw",
   "metadata": {},
   "source": []
  },
  {
   "cell_type": "raw",
   "metadata": {},
   "source": [
    "import sys\n",
    "inputs = sys.stdin.readlines()"
   ]
  },
  {
   "cell_type": "code",
   "execution_count": null,
   "metadata": {},
   "outputs": [],
   "source": []
  }
 ],
 "metadata": {
  "kernelspec": {
   "display_name": "Environment (conda_atcoder)",
   "language": "python",
   "name": "conda_atcoder"
  },
  "language_info": {
   "codemirror_mode": {
    "name": "ipython",
    "version": 3
   },
   "file_extension": ".py",
   "mimetype": "text/x-python",
   "name": "python",
   "nbconvert_exporter": "python",
   "pygments_lexer": "ipython3",
   "version": "3.7.4"
  },
  "widgets": {
   "application/vnd.jupyter.widget-state+json": {
    "state": {
     "3a6c7d2778404bce92d60835afc30968": {
      "model_module": "@jupyter-widgets/controls",
      "model_module_version": "1.4.0",
      "model_name": "DescriptionStyleModel",
      "state": {
       "_model_module_version": "1.4.0",
       "_view_module_version": "1.1.0",
       "description_width": ""
      }
     },
     "575f3cdd4dbb4c67b713fad3a58ff045": {
      "model_module": "@jupyter-widgets/controls",
      "model_module_version": "1.4.0",
      "model_name": "TextareaModel",
      "state": {
       "_model_module_version": "1.4.0",
       "_view_module_version": "1.4.0",
       "layout": "IPY_MODEL_68c2a26985a44c0ab99d1c8260930b39",
       "style": "IPY_MODEL_3a6c7d2778404bce92d60835afc30968",
       "value": "10\n457835016 996058008\n456475528 529149798\n455108441 512701454\n455817105 523506955\n457368248 814532746\n455073228 459494089\n456651538 774276744\n457667152 974637457\n457293701 800549465\n456580262 636471526"
      }
     },
     "68c2a26985a44c0ab99d1c8260930b39": {
      "model_module": "@jupyter-widgets/base",
      "model_module_version": "1.1.0",
      "model_name": "LayoutModel",
      "state": {
       "_model_module_version": "1.1.0",
       "_view_module_version": "1.1.0"
      }
     }
    },
    "version_major": 2,
    "version_minor": 0
   }
  }
 },
 "nbformat": 4,
 "nbformat_minor": 4
}
