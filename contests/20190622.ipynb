{
 "cells": [
  {
   "cell_type": "code",
   "execution_count": 2,
   "metadata": {},
   "outputs": [],
   "source": [
    "from IPython.core.interactiveshell import InteractiveShell\n",
    "InteractiveShell.ast_node_interactivity = 'all'"
   ]
  },
  {
   "cell_type": "code",
   "execution_count": 3,
   "metadata": {},
   "outputs": [
    {
     "data": {
      "application/vnd.jupyter.widget-view+json": {
       "model_id": "8c176bf06c5945379f37d7045a24ed09",
       "version_major": 2,
       "version_minor": 0
      },
      "text/plain": [
       "Textarea(value='')"
      ]
     },
     "metadata": {},
     "output_type": "display_data"
    }
   ],
   "source": [
    "from ipywidgets import Textarea\n",
    "\n",
    "def get_input(change):\n",
    "    global inputs\n",
    "    inputs = change['new']\n",
    "\n",
    "textarea = Textarea()\n",
    "textarea.observe(get_input, names='value')\n",
    "display(textarea)"
   ]
  },
  {
   "cell_type": "markdown",
   "metadata": {},
   "source": [
    "# 1"
   ]
  },
  {
   "cell_type": "code",
   "execution_count": null,
   "metadata": {},
   "outputs": [],
   "source": [
    "import sys\n",
    "# inputs = sys.stdin.readlines()"
   ]
  },
  {
   "cell_type": "code",
   "execution_count": 8,
   "metadata": {},
   "outputs": [
    {
     "name": "stdout",
     "output_type": "stream",
     "text": [
      "Bad\n"
     ]
    }
   ],
   "source": [
    "chars = inputs[0]\n",
    "flag = True\n",
    "for i in range(1, len(chars)):\n",
    "    flag = flag and chars[i-1] != chars[i]\n",
    "    if not flag:\n",
    "        break\n",
    "\n",
    "if flag:\n",
    "    print('Good')\n",
    "else:\n",
    "    print('Bad')"
   ]
  },
  {
   "cell_type": "markdown",
   "metadata": {},
   "source": [
    "# 2"
   ]
  },
  {
   "cell_type": "code",
   "execution_count": null,
   "metadata": {},
   "outputs": [],
   "source": [
    "import sys\n",
    "# inputs = sys.stdin.readlines()"
   ]
  },
  {
   "cell_type": "code",
   "execution_count": 13,
   "metadata": {},
   "outputs": [],
   "source": [
    "n, l = 5, 2"
   ]
  },
  {
   "cell_type": "code",
   "execution_count": 23,
   "metadata": {},
   "outputs": [
    {
     "data": {
      "text/plain": [
       "2"
      ]
     },
     "execution_count": 23,
     "metadata": {},
     "output_type": "execute_result"
    },
    {
     "name": "stdout",
     "output_type": "stream",
     "text": [
      "18\n"
     ]
    }
   ],
   "source": [
    "values = list(range(l, l+n))\n",
    "tmp = [abs(x) for x in values]\n",
    "values.pop(tmp.index(min(tmp)))\n",
    "print(sum(values))"
   ]
  },
  {
   "cell_type": "markdown",
   "metadata": {},
   "source": [
    "# 3"
   ]
  },
  {
   "cell_type": "code",
   "execution_count": null,
   "metadata": {},
   "outputs": [],
   "source": [
    "import sys\n",
    "# inputs = sys.stdin.readlines()"
   ]
  },
  {
   "cell_type": "code",
   "execution_count": 160,
   "metadata": {},
   "outputs": [],
   "source": [
    "a, b, c, d = 314159265358979323, 846264338327950288, 419716939, 937510582"
   ]
  },
  {
   "cell_type": "code",
   "execution_count": 150,
   "metadata": {},
   "outputs": [],
   "source": [
    "a, b, c, d = 4, 9, 2, 3"
   ]
  },
  {
   "cell_type": "code",
   "execution_count": 153,
   "metadata": {},
   "outputs": [],
   "source": [
    "a, b, c, d = 10, 11, 2, 3"
   ]
  },
  {
   "cell_type": "code",
   "execution_count": 158,
   "metadata": {},
   "outputs": [],
   "source": [
    "a, b, c, d = 10, 40, 6, 8"
   ]
  },
  {
   "cell_type": "code",
   "execution_count": 115,
   "metadata": {},
   "outputs": [],
   "source": [
    "def mod(a, b):\n",
    "    r = a%b\n",
    "    return r if r != 0 else b\n",
    "\n",
    "def num(a, b, c):\n",
    "    i = a + c - mod(a, c)\n",
    "    if i > b:\n",
    "        i = b+1\n",
    "    return math.ceil((b+1 - i) / c)"
   ]
  },
  {
   "cell_type": "code",
   "execution_count": 161,
   "metadata": {},
   "outputs": [
    {
     "name": "stdout",
     "output_type": "stream",
     "text": [
      "532105071133627368\n"
     ]
    }
   ],
   "source": [
    "import math\n",
    "from math import gcd\n",
    "# from fractions import gcs\n",
    "# a, b, c, d = [int(x) for x in inputs[0].split(' ')]\n",
    "e = c * d // gcd(c, d) # lcm(c, d)\n",
    "\n",
    "num_b = b - b // c - b // d + b // e\n",
    "num_a = (a-1) - (a-1) // c - (a-1) // d + (a-1) // e\n",
    "\n",
    "print(num_b - num_a)"
   ]
  },
  {
   "cell_type": "code",
   "execution_count": 96,
   "metadata": {},
   "outputs": [
    {
     "name": "stdout",
     "output_type": "stream",
     "text": [
      "532105071133627368\n"
     ]
    }
   ],
   "source": [
    "if c <= a:\n",
    "    for i in range(a, b+1):\n",
    "        if i % c == 0:\n",
    "            break\n",
    "elif a <= c <= b:\n",
    "    i = c\n",
    "else:\n",
    "    i = b+1\n",
    "c_ = math.ceil((b+1 - i) / c)\n",
    "\n",
    "if d <= a:\n",
    "    for i in range(a, b+1):\n",
    "        if i % d == 0:\n",
    "            break\n",
    "elif a <= d <= b:\n",
    "    i = d\n",
    "else:\n",
    "    i = b+1\n",
    "\n",
    "d_ = math.ceil((b+1 - i) / d)\n",
    "\n",
    "e = c * d // gcd(c, d) # lcm(c, d)\n",
    "if e <= a:\n",
    "    for i in range(a, b+1):\n",
    "        if i % e == 0:\n",
    "            break\n",
    "elif a <= e <= b:\n",
    "    i = e\n",
    "else:\n",
    "    i = b+1\n",
    "\n",
    "e_ = math.ceil((b+1 - i) / e)\n",
    "\n",
    "print(b+1 - a - c_ - d_ + e_)"
   ]
  },
  {
   "cell_type": "code",
   "execution_count": 94,
   "metadata": {},
   "outputs": [
    {
     "name": "stdout",
     "output_type": "stream",
     "text": [
      "532105071133627368\n"
     ]
    }
   ],
   "source": []
  },
  {
   "cell_type": "code",
   "execution_count": 72,
   "metadata": {},
   "outputs": [
    {
     "name": "stdout",
     "output_type": "stream",
     "text": [
      "532105071133627368\n"
     ]
    }
   ],
   "source": [
    "print(b+1 - a - c_ - d_ + e_)"
   ]
  },
  {
   "cell_type": "code",
   "execution_count": 44,
   "metadata": {},
   "outputs": [
    {
     "data": {
      "text/plain": [
       "393489071757148498"
      ]
     },
     "execution_count": 44,
     "metadata": {},
     "output_type": "execute_result"
    }
   ],
   "source": [
    "e = c * d // math.gcd(c, d) # lcm(c, d)\n",
    "e"
   ]
  },
  {
   "cell_type": "code",
   "execution_count": 47,
   "metadata": {},
   "outputs": [
    {
     "data": {
      "text/plain": [
       "(314159265358979323, 393489071757148498, 846264338327950288)"
      ]
     },
     "execution_count": 47,
     "metadata": {},
     "output_type": "execute_result"
    }
   ],
   "source": [
    "a, e, b"
   ]
  },
  {
   "cell_type": "code",
   "execution_count": 48,
   "metadata": {},
   "outputs": [],
   "source": [
    "e = c * d // math.gcd(c, d) # lcm(c, d)\n",
    "if e <= a:\n",
    "    for k in range(a, b):\n",
    "        if k % e == 0:\n",
    "            print(k)\n",
    "            break\n",
    "elif a <= e <= b:\n",
    "    k = e\n",
    "else:\n",
    "    k = b\n",
    "    \n",
    "e_ = (b - k) // e"
   ]
  },
  {
   "cell_type": "code",
   "execution_count": 49,
   "metadata": {},
   "outputs": [
    {
     "name": "stdout",
     "output_type": "stream",
     "text": [
      "1835343597\n"
     ]
    }
   ],
   "source": [
    "print(c_ + d_ - e_)"
   ]
  },
  {
   "cell_type": "code",
   "execution_count": null,
   "metadata": {},
   "outputs": [],
   "source": []
  }
 ],
 "metadata": {
  "kernelspec": {
   "display_name": "Environment (conda_atcoder)",
   "language": "python",
   "name": "conda_atcoder"
  },
  "language_info": {
   "codemirror_mode": {
    "name": "ipython",
    "version": 3
   },
   "file_extension": ".py",
   "mimetype": "text/x-python",
   "name": "python",
   "nbconvert_exporter": "python",
   "pygments_lexer": "ipython3",
   "version": "3.7.3"
  }
 },
 "nbformat": 4,
 "nbformat_minor": 2
}
