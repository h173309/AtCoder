{
 "cells": [
  {
   "cell_type": "markdown",
   "metadata": {},
   "source": [
    "# [AtCoder](https://atcoder.jp/)"
   ]
  },
  {
   "cell_type": "markdown",
   "metadata": {},
   "source": [
    "### 計算量\n",
    "- $N \\simeq 10^6$ → $O(N)$ or $O(N \\log N)$\n",
    "- $N \\simeq 10^5$ → $O(N \\log N)$ or $O(N \\log^2 N)$\n",
    "- $N \\simeq 3000$ → $O(N^2)$\n",
    "- $N \\simeq 300$  → $O(N^3)$ *シンプルな処理\n",
    "- $N \\simeq 100$  → $O(N^3)$\n",
    "- $N \\simeq 50$   → $O(N^4)$\n",
    "- $N \\simeq 20$   → $O(2^N)$"
   ]
  },
  {
   "cell_type": "markdown",
   "metadata": {},
   "source": [
    "### JupyterLab入力"
   ]
  },
  {
   "cell_type": "code",
   "execution_count": 1,
   "metadata": {},
   "outputs": [
    {
     "data": {
      "application/vnd.jupyter.widget-view+json": {
       "model_id": "14539b8b53f344b6bb9fbb28f2919e57",
       "version_major": 2,
       "version_minor": 0
      },
      "text/plain": [
       "Textarea(value='')"
      ]
     },
     "metadata": {},
     "output_type": "display_data"
    }
   ],
   "source": [
    "from ipywidgets import Textarea\n",
    "\n",
    "def get_input(change):\n",
    "    global inputs\n",
    "    inputs = change['new'].split('\\n')\n",
    "\n",
    "textarea = Textarea()\n",
    "textarea.observe(get_input, names='value')\n",
    "display(textarea)"
   ]
  },
  {
   "cell_type": "markdown",
   "metadata": {},
   "source": [
    "### テンプレートインポート"
   ]
  },
  {
   "cell_type": "code",
   "execution_count": 2,
   "metadata": {},
   "outputs": [],
   "source": [
    "from IPython.core.interactiveshell import InteractiveShell\n",
    "InteractiveShell.ast_node_interactivity = 'all'\n",
    "import warnings\n",
    "warnings.simplefilter('ignore')"
   ]
  },
  {
   "cell_type": "code",
   "execution_count": 3,
   "metadata": {},
   "outputs": [],
   "source": [
    "import sys\n",
    "sys.setrecursionlimit(10**6)\n",
    "\n",
    "from copy import deepcopy\n",
    "\n",
    "from fractions import gcd\n",
    "lcm = lambda x, y : x*y // gcd(x, y)\n",
    "from math import floor, ceil\n",
    "from statistics import median, median_low, mode, mean\n",
    "\n",
    "from collections import defaultdict\n",
    "from collections import Counter\n",
    "from collections import deque\n",
    "\n",
    "import bisect\n",
    "bisect_left = bisect.bisect_left\n",
    "\n",
    "from itertools import accumulate\n",
    "from itertools import chain\n",
    "chain_from_iterable = chain.from_iterable\n",
    "from itertools import groupby\n",
    "from itertools import permutations\n",
    "from itertools import combinations\n",
    "from itertools import product\n",
    "from itertools import combinations_with_replacement\n",
    "\n",
    "from functools import reduce\n",
    "from operator import itemgetter, methodcaller\n",
    "from operator import add, mul, and_, or_, xor\n",
    "gcd_ = lambda *x: reduce(gcd, x)\n",
    "lcm_ = lambda *x: reduce(lcm, x)\n",
    "\n",
    "import heapq\n",
    "from heapq import heapify, heappush, heappop, _heapify_max\n",
    "def _heappush_max(heap, item):\n",
    "    heap.append(item)\n",
    "    heapq._siftdown_max(heap, 0, len(heap)-1)\n",
    "def _heappop_max(heap):\n",
    "    lastelt = heap.pop()\n",
    "    if heap:\n",
    "        returnitem = heap[0]\n",
    "        heap[0] = lastelt\n",
    "        heapq._siftup_max(heap, 0)\n",
    "        return returnitem\n",
    "    return lastelt\n",
    "\n",
    "import numpy as np\n",
    "from scipy.ndimage import distance_transform_cdt\n",
    "from scipy.sparse.csgraph import shortest_path, floyd_warshall, dijkstra, bellman_ford, johnson\n",
    "from scipy.sparse import csr_matrix\n",
    "from scipy.optimize import newton\n",
    "\n",
    "index_max = lambda l: max(enumerate(l), key=lambda x:x[1])\n",
    "index_min = lambda l: min(enumerate(l), key=lambda x:x[1])"
   ]
  },
  {
   "cell_type": "markdown",
   "metadata": {},
   "source": [
    "### 入力テンプレート"
   ]
  },
  {
   "cell_type": "raw",
   "metadata": {},
   "source": [
    "A B"
   ]
  },
  {
   "cell_type": "raw",
   "metadata": {},
   "source": [
    "A, B = map(int, inputs[0].split())"
   ]
  },
  {
   "cell_type": "raw",
   "metadata": {},
   "source": [
    "N\n",
    "a1 a2 ... an"
   ]
  },
  {
   "cell_type": "raw",
   "metadata": {},
   "source": [
    "N = int(inputs[0])\n",
    "A = list(map(int, inputs[1].split()))"
   ]
  },
  {
   "cell_type": "raw",
   "metadata": {},
   "source": [
    "N\n",
    "a1\n",
    "...\n",
    "an"
   ]
  },
  {
   "cell_type": "raw",
   "metadata": {},
   "source": [
    "N = int(inputs[0])\n",
    "A = list(map(int, inputs[1:]))"
   ]
  },
  {
   "cell_type": "raw",
   "metadata": {},
   "source": [
    "N M\n",
    "a11 a12 ... a1m\n",
    "a21 a22 ... a2m\n",
    "... ... ... ...\n",
    "an1 an2 ... anm"
   ]
  },
  {
   "cell_type": "raw",
   "metadata": {},
   "source": [
    "N, M = map(int, inputs[0].split())\n",
    "A = [list(map(int, x.split())) for x in inputs[1:]]"
   ]
  },
  {
   "cell_type": "markdown",
   "metadata": {},
   "source": [
    "# 1"
   ]
  },
  {
   "cell_type": "markdown",
   "metadata": {},
   "source": [
    "sample data 1"
   ]
  },
  {
   "cell_type": "raw",
   "metadata": {},
   "source": []
  },
  {
   "cell_type": "raw",
   "metadata": {},
   "source": []
  },
  {
   "cell_type": "raw",
   "metadata": {},
   "source": [
    "import sys\n",
    "from math import floor, ceil\n",
    "inputs = sys.stdin.readlines()"
   ]
  },
  {
   "cell_type": "code",
   "execution_count": 8,
   "metadata": {},
   "outputs": [
    {
     "name": "stdout",
     "output_type": "stream",
     "text": [
      "1\n"
     ]
    }
   ],
   "source": [
    "h = int(inputs[0])\n",
    "w = int(inputs[1])\n",
    "n = int(inputs[2])\n",
    "\n",
    "print(ceil(n / max(h, w)))"
   ]
  },
  {
   "cell_type": "markdown",
   "metadata": {},
   "source": [
    "# 2"
   ]
  },
  {
   "cell_type": "markdown",
   "metadata": {},
   "source": [
    "sample data 1"
   ]
  },
  {
   "cell_type": "raw",
   "metadata": {},
   "source": []
  },
  {
   "cell_type": "raw",
   "metadata": {},
   "source": []
  },
  {
   "cell_type": "markdown",
   "metadata": {},
   "source": [
    "sample data 2"
   ]
  },
  {
   "cell_type": "raw",
   "metadata": {},
   "source": []
  },
  {
   "cell_type": "raw",
   "metadata": {},
   "source": []
  },
  {
   "cell_type": "markdown",
   "metadata": {},
   "source": [
    "boundary data 1"
   ]
  },
  {
   "cell_type": "raw",
   "metadata": {},
   "source": []
  },
  {
   "cell_type": "raw",
   "metadata": {},
   "source": []
  },
  {
   "cell_type": "raw",
   "metadata": {},
   "source": [
    "import sys\n",
    "inputs = sys.stdin.readlines()"
   ]
  },
  {
   "cell_type": "code",
   "execution_count": 75,
   "metadata": {},
   "outputs": [
    {
     "name": "stdout",
     "output_type": "stream",
     "text": [
      "2\n"
     ]
    }
   ],
   "source": [
    "n = int(inputs[0])\n",
    "Y = []\n",
    "for s in inputs[1:]:\n",
    "    x, l = map(int, s.split())\n",
    "    Y.append((x-l, x+l))\n",
    "Y.sort(key=lambda x: x[0])\n",
    "\n",
    "cnt = 1\n",
    "_, r0 = Y[0]\n",
    "for i in range(1, n):\n",
    "    l, r = Y[i]\n",
    "    if r0 <= l:\n",
    "        cnt += 1\n",
    "        r0 = r\n",
    "print(cnt)"
   ]
  },
  {
   "cell_type": "markdown",
   "metadata": {},
   "source": [
    "# 3"
   ]
  },
  {
   "cell_type": "markdown",
   "metadata": {},
   "source": [
    "sample data 1"
   ]
  },
  {
   "cell_type": "raw",
   "metadata": {},
   "source": []
  },
  {
   "cell_type": "raw",
   "metadata": {},
   "source": []
  },
  {
   "cell_type": "markdown",
   "metadata": {},
   "source": [
    "sample data 2"
   ]
  },
  {
   "cell_type": "raw",
   "metadata": {},
   "source": []
  },
  {
   "cell_type": "raw",
   "metadata": {},
   "source": []
  },
  {
   "cell_type": "markdown",
   "metadata": {},
   "source": [
    "boundary data 1"
   ]
  },
  {
   "cell_type": "raw",
   "metadata": {},
   "source": [
    "import sys\n",
    "inputs = sys.stdin.readlines()"
   ]
  },
  {
   "cell_type": "code",
   "execution_count": 38,
   "metadata": {},
   "outputs": [
    {
     "name": "stdout",
     "output_type": "stream",
     "text": [
      "101 101 100 100 100\n"
     ]
    }
   ],
   "source": [
    "n, k, s = map(int, inputs[0].split())\n",
    "A = [s]*n\n",
    "for i in range(n-k):\n",
    "    A[i] = s+1 if s != 10**9 else 1\n",
    "print(*A)"
   ]
  },
  {
   "cell_type": "markdown",
   "metadata": {},
   "source": [
    "# 4"
   ]
  },
  {
   "cell_type": "markdown",
   "metadata": {},
   "source": [
    "sample data 1"
   ]
  },
  {
   "cell_type": "raw",
   "metadata": {},
   "source": []
  },
  {
   "cell_type": "raw",
   "metadata": {},
   "source": []
  },
  {
   "cell_type": "markdown",
   "metadata": {},
   "source": [
    "sample data 2"
   ]
  },
  {
   "cell_type": "raw",
   "metadata": {},
   "source": []
  },
  {
   "cell_type": "raw",
   "metadata": {},
   "source": []
  },
  {
   "cell_type": "markdown",
   "metadata": {},
   "source": [
    "boundary data 1"
   ]
  },
  {
   "cell_type": "raw",
   "metadata": {},
   "source": []
  },
  {
   "cell_type": "raw",
   "metadata": {},
   "source": []
  },
  {
   "cell_type": "raw",
   "metadata": {},
   "source": [
    "import sys\n",
    "from copy import deepcopy\n",
    "from collections import deque\n",
    "from itertools import chain\n",
    "\n",
    "chain_from_iterable = chain.from_iterable\n",
    "inputs = sys.stdin.readlines()"
   ]
  },
  {
   "cell_type": "code",
   "execution_count": 67,
   "metadata": {},
   "outputs": [
    {
     "name": "stdout",
     "output_type": "stream",
     "text": [
      "10\n"
     ]
    }
   ],
   "source": [
    "h, w = map(int, inputs[0].split())\n"
   ]
  },
  {
   "cell_type": "code",
   "execution_count": 76,
   "metadata": {},
   "outputs": [
    {
     "name": "stdout",
     "output_type": "stream",
     "text": [
      "10\n"
     ]
    }
   ],
   "source": []
  },
  {
   "cell_type": "markdown",
   "metadata": {},
   "source": [
    "# 5"
   ]
  },
  {
   "cell_type": "markdown",
   "metadata": {},
   "source": [
    "sample data 1"
   ]
  },
  {
   "cell_type": "raw",
   "metadata": {},
   "source": []
  },
  {
   "cell_type": "raw",
   "metadata": {},
   "source": []
  },
  {
   "cell_type": "markdown",
   "metadata": {},
   "source": [
    "sample data 2"
   ]
  },
  {
   "cell_type": "raw",
   "metadata": {},
   "source": []
  },
  {
   "cell_type": "raw",
   "metadata": {},
   "source": []
  },
  {
   "cell_type": "markdown",
   "metadata": {},
   "source": [
    "boundary data 1"
   ]
  },
  {
   "cell_type": "raw",
   "metadata": {},
   "source": []
  },
  {
   "cell_type": "raw",
   "metadata": {},
   "source": []
  },
  {
   "cell_type": "raw",
   "metadata": {},
   "source": [
    "import sys\n",
    "inputs = sys.stdin.readlines()"
   ]
  },
  {
   "cell_type": "markdown",
   "metadata": {},
   "source": [
    "# 6"
   ]
  },
  {
   "cell_type": "markdown",
   "metadata": {},
   "source": [
    "sample data 1"
   ]
  },
  {
   "cell_type": "raw",
   "metadata": {},
   "source": []
  },
  {
   "cell_type": "raw",
   "metadata": {},
   "source": []
  },
  {
   "cell_type": "markdown",
   "metadata": {},
   "source": [
    "sample data 2"
   ]
  },
  {
   "cell_type": "raw",
   "metadata": {},
   "source": []
  },
  {
   "cell_type": "raw",
   "metadata": {},
   "source": []
  },
  {
   "cell_type": "markdown",
   "metadata": {},
   "source": [
    "boundary data 1"
   ]
  },
  {
   "cell_type": "raw",
   "metadata": {},
   "source": []
  },
  {
   "cell_type": "raw",
   "metadata": {},
   "source": []
  },
  {
   "cell_type": "raw",
   "metadata": {},
   "source": [
    "import sys\n",
    "inputs = sys.stdin.readlines()"
   ]
  },
  {
   "cell_type": "code",
   "execution_count": null,
   "metadata": {},
   "outputs": [],
   "source": []
  }
 ],
 "metadata": {
  "kernelspec": {
   "display_name": "Environment (conda_atcoder)",
   "language": "python",
   "name": "conda_atcoder"
  },
  "language_info": {
   "codemirror_mode": {
    "name": "ipython",
    "version": 3
   },
   "file_extension": ".py",
   "mimetype": "text/x-python",
   "name": "python",
   "nbconvert_exporter": "python",
   "pygments_lexer": "ipython3",
   "version": "3.7.4"
  },
  "widgets": {
   "application/vnd.jupyter.widget-state+json": {
    "state": {
     "14539b8b53f344b6bb9fbb28f2919e57": {
      "model_module": "@jupyter-widgets/controls",
      "model_module_version": "1.4.0",
      "model_name": "TextareaModel",
      "state": {
       "_model_module_version": "1.4.0",
       "_view_module_version": "1.4.0",
       "layout": "IPY_MODEL_a7a186853bc34a9abfa7e81ced355cf5",
       "style": "IPY_MODEL_bb6570a7ddad43fab4737b27356a842c",
       "value": "2\n103 1\n101 1"
      }
     },
     "a7a186853bc34a9abfa7e81ced355cf5": {
      "model_module": "@jupyter-widgets/base",
      "model_module_version": "1.1.0",
      "model_name": "LayoutModel",
      "state": {
       "_model_module_version": "1.1.0",
       "_view_module_version": "1.1.0"
      }
     },
     "bb6570a7ddad43fab4737b27356a842c": {
      "model_module": "@jupyter-widgets/controls",
      "model_module_version": "1.4.0",
      "model_name": "DescriptionStyleModel",
      "state": {
       "_model_module_version": "1.4.0",
       "_view_module_version": "1.1.0",
       "description_width": ""
      }
     }
    },
    "version_major": 2,
    "version_minor": 0
   }
  }
 },
 "nbformat": 4,
 "nbformat_minor": 4
}
