{
 "cells": [
  {
   "cell_type": "markdown",
   "metadata": {},
   "source": [
    "### 計算量\n",
    "- Nが$10^6$ → $O(N)$ or $O(N \\log N)$\n",
    "- Nが$10^5$ → $O(N \\log N)$ or $O(N \\log^2 N)$\n",
    "- Nが3000 → $O(N^2)$\n",
    "- Nが300 → $O(N^3)$ *シンプルな処理\n",
    "- Nが100 → $O(N^3)$\n",
    "- Nが50 → $O(N^4)$\n",
    "- Nが20 → $O(2^N)$ or $O(2^N N)$"
   ]
  },
  {
   "cell_type": "code",
   "execution_count": 1,
   "metadata": {},
   "outputs": [],
   "source": [
    "from IPython.core.interactiveshell import InteractiveShell\n",
    "InteractiveShell.ast_node_interactivity = 'all'\n",
    "\n",
    "import sys"
   ]
  },
  {
   "cell_type": "code",
   "execution_count": 2,
   "metadata": {},
   "outputs": [
    {
     "ename": "NameError",
     "evalue": "name 'display' is not defined",
     "output_type": "error",
     "traceback": [
      "\u001b[1;31m---------------------------------------------------------------------------\u001b[0m",
      "\u001b[1;31mNameError\u001b[0m                                 Traceback (most recent call last)",
      "\u001b[1;32m<ipython-input-2-b0f8946d6ac5>\u001b[0m in \u001b[0;36m<module>\u001b[1;34m()\u001b[0m\n\u001b[0;32m      7\u001b[0m \u001b[0mtextarea\u001b[0m \u001b[1;33m=\u001b[0m \u001b[0mTextarea\u001b[0m\u001b[1;33m(\u001b[0m\u001b[1;33m)\u001b[0m\u001b[1;33m\u001b[0m\u001b[0m\n\u001b[0;32m      8\u001b[0m \u001b[0mtextarea\u001b[0m\u001b[1;33m.\u001b[0m\u001b[0mobserve\u001b[0m\u001b[1;33m(\u001b[0m\u001b[0mget_input\u001b[0m\u001b[1;33m,\u001b[0m \u001b[0mnames\u001b[0m\u001b[1;33m=\u001b[0m\u001b[1;34m'value'\u001b[0m\u001b[1;33m)\u001b[0m\u001b[1;33m\u001b[0m\u001b[0m\n\u001b[1;32m----> 9\u001b[1;33m \u001b[0mdisplay\u001b[0m\u001b[1;33m(\u001b[0m\u001b[0mtextarea\u001b[0m\u001b[1;33m)\u001b[0m\u001b[1;33m\u001b[0m\u001b[0m\n\u001b[0m",
      "\u001b[1;31mNameError\u001b[0m: name 'display' is not defined"
     ]
    }
   ],
   "source": [
    "from ipywidgets import Textarea\n",
    "\n",
    "def get_input(change):\n",
    "    global inputs\n",
    "    inputs = change['new'].split('\\n')\n",
    "\n",
    "textarea = Textarea()\n",
    "textarea.observe(get_input, names='value')\n",
    "display(textarea)"
   ]
  },
  {
   "cell_type": "code",
   "execution_count": 14,
   "metadata": {},
   "outputs": [],
   "source": [
    "# import sys\n",
    "# sys.setrecursionlimit(10**6)\n",
    "\n",
    "# from copy import deepcopy\n",
    "\n",
    "# from fractions import gcd\n",
    "# from math import floor, ceil"
   ]
  },
  {
   "cell_type": "code",
   "execution_count": 15,
   "metadata": {},
   "outputs": [],
   "source": [
    "# from fractions import gcd\n",
    "# lcm = lambda x, y : x*y // gcd(x, y)\n",
    "# from math import floor, ceil"
   ]
  },
  {
   "cell_type": "code",
   "execution_count": null,
   "metadata": {},
   "outputs": [],
   "source": [
    "# from collections import defaultdict\n",
    "# from collections import Counter\n",
    "\n",
    "# from itertools import permutations\n",
    "# from itertools import combinations\n",
    "# from itertools import product\n",
    "# from itertools import combinations_with_replacement"
   ]
  },
  {
   "cell_type": "markdown",
   "metadata": {},
   "source": [
    "# 1"
   ]
  },
  {
   "cell_type": "markdown",
   "metadata": {},
   "source": [
    "sample data 1"
   ]
  },
  {
   "cell_type": "raw",
   "metadata": {},
   "source": [
    "3200\n",
    "pink"
   ]
  },
  {
   "cell_type": "raw",
   "metadata": {},
   "source": [
    "pink"
   ]
  },
  {
   "cell_type": "markdown",
   "metadata": {},
   "source": [
    "sample data 2"
   ]
  },
  {
   "cell_type": "raw",
   "metadata": {},
   "source": [
    "3199\n",
    "pink"
   ]
  },
  {
   "cell_type": "raw",
   "metadata": {},
   "source": [
    "red"
   ]
  },
  {
   "cell_type": "raw",
   "metadata": {},
   "source": [
    "import sys\n",
    "inputs = sys.stdin.readlines()"
   ]
  },
  {
   "cell_type": "code",
   "execution_count": 7,
   "metadata": {},
   "outputs": [],
   "source": [
    "n = int(inputs[0])\n",
    "s = inputs[1]"
   ]
  },
  {
   "cell_type": "code",
   "execution_count": 8,
   "metadata": {},
   "outputs": [
    {
     "name": "stdout",
     "output_type": "stream",
     "text": [
      "red\n"
     ]
    }
   ],
   "source": [
    "print('%s' % 'red' if n < 3200 else s) "
   ]
  },
  {
   "cell_type": "code",
   "execution_count": 2,
   "metadata": {},
   "outputs": [
    {
     "name": "stdout",
     "output_type": "stream",
     "text": [
      "Yes\n"
     ]
    }
   ],
   "source": [
    "from collections import Counter\n",
    "\n",
    "N = int(inputs[0])\n",
    "A = list(map(int, inputs[1].split()))"
   ]
  },
  {
   "cell_type": "markdown",
   "metadata": {},
   "source": [
    "# 2"
   ]
  },
  {
   "cell_type": "markdown",
   "metadata": {},
   "source": [
    "sample data 1"
   ]
  },
  {
   "cell_type": "raw",
   "metadata": {},
   "source": [
    "2\n",
    "10 30"
   ]
  },
  {
   "cell_type": "raw",
   "metadata": {},
   "source": [
    "7.5"
   ]
  },
  {
   "cell_type": "markdown",
   "metadata": {},
   "source": [
    "sample data 2"
   ]
  },
  {
   "cell_type": "raw",
   "metadata": {},
   "source": [
    "3\n",
    "200 200 200"
   ]
  },
  {
   "cell_type": "raw",
   "metadata": {},
   "source": [
    "66.66666666666667"
   ]
  },
  {
   "cell_type": "code",
   "execution_count": null,
   "metadata": {},
   "outputs": [],
   "source": [
    "1\n",
    "1000"
   ]
  },
  {
   "cell_type": "code",
   "execution_count": null,
   "metadata": {},
   "outputs": [],
   "source": [
    "1000"
   ]
  },
  {
   "cell_type": "markdown",
   "metadata": {},
   "source": [
    "boundary data 1"
   ]
  },
  {
   "cell_type": "raw",
   "metadata": {},
   "source": []
  },
  {
   "cell_type": "markdown",
   "metadata": {},
   "source": [
    "boundary data 2"
   ]
  },
  {
   "cell_type": "raw",
   "metadata": {},
   "source": []
  },
  {
   "cell_type": "code",
   "execution_count": null,
   "metadata": {},
   "outputs": [],
   "source": [
    "import sys\n",
    "inputs = sys.stdin.readlines()"
   ]
  },
  {
   "cell_type": "code",
   "execution_count": 14,
   "metadata": {},
   "outputs": [],
   "source": [
    "n = int(inputs[0])\n",
    "a_list = list(map(int, inputs[1].split()))"
   ]
  },
  {
   "cell_type": "code",
   "execution_count": 15,
   "metadata": {},
   "outputs": [
    {
     "name": "stdout",
     "output_type": "stream",
     "text": [
      "1000.0\n"
     ]
    }
   ],
   "source": [
    "print(1 / sum([1/a for a in a_list]))"
   ]
  },
  {
   "cell_type": "markdown",
   "metadata": {},
   "source": [
    "# 4"
   ]
  },
  {
   "cell_type": "markdown",
   "metadata": {},
   "source": [
    "sample data 1"
   ]
  },
  {
   "cell_type": "raw",
   "metadata": {},
   "source": [
    "4 3\n",
    "1 2\n",
    "2 3\n",
    "2 4\n",
    "2 10\n",
    "1 100\n",
    "3 1"
   ]
  },
  {
   "cell_type": "raw",
   "metadata": {},
   "source": [
    "100 110 111 110"
   ]
  },
  {
   "cell_type": "markdown",
   "metadata": {},
   "source": [
    "sample data 2"
   ]
  },
  {
   "cell_type": "raw",
   "metadata": {},
   "source": [
    "6 2\n",
    "1 2\n",
    "1 3\n",
    "2 4\n",
    "3 6\n",
    "2 5\n",
    "1 10\n",
    "1 10"
   ]
  },
  {
   "cell_type": "raw",
   "metadata": {},
   "source": [
    "20 20 20 20 20 20"
   ]
  },
  {
   "cell_type": "markdown",
   "metadata": {},
   "source": [
    "sample data 3"
   ]
  },
  {
   "cell_type": "raw",
   "metadata": {},
   "source": []
  },
  {
   "cell_type": "raw",
   "metadata": {},
   "source": []
  },
  {
   "cell_type": "markdown",
   "metadata": {},
   "source": [
    "boundary data 1"
   ]
  },
  {
   "cell_type": "raw",
   "metadata": {},
   "source": []
  },
  {
   "cell_type": "raw",
   "metadata": {},
   "source": []
  },
  {
   "cell_type": "markdown",
   "metadata": {},
   "source": [
    "boundary data 2"
   ]
  },
  {
   "cell_type": "raw",
   "metadata": {},
   "source": []
  },
  {
   "cell_type": "raw",
   "metadata": {},
   "source": []
  },
  {
   "cell_type": "code",
   "execution_count": null,
   "metadata": {},
   "outputs": [],
   "source": [
    "import sys\n",
    "inputs = sys.stdin.readlines()"
   ]
  },
  {
   "cell_type": "code",
   "execution_count": 48,
   "metadata": {},
   "outputs": [
    {
     "data": {
      "text/plain": [
       "[(1, 2), (2, 3), (2, 4)]"
      ]
     },
     "execution_count": 48,
     "metadata": {},
     "output_type": "execute_result"
    },
    {
     "data": {
      "text/plain": [
       "[(2, 10), (1, 100), (3, 1)]"
      ]
     },
     "execution_count": 48,
     "metadata": {},
     "output_type": "execute_result"
    }
   ],
   "source": [
    "n, q = list(map(int, inputs[0].split()))\n",
    "# edges = [tuple(map(int, x.split())) for x in inputs[1:n]]\n",
    "# p_x_list = [tuple(map(int, x.split())) for x in inputs[n:]]\n",
    "edges\n",
    "p_x_list"
   ]
  },
  {
   "cell_type": "code",
   "execution_count": null,
   "metadata": {},
   "outputs": [],
   "source": [
    "inputs = "
   ]
  },
  {
   "cell_type": "code",
   "execution_count": null,
   "metadata": {},
   "outputs": [],
   "source": []
  },
  {
   "cell_type": "code",
   "execution_count": 50,
   "metadata": {},
   "outputs": [
    {
     "ename": "ValueError",
     "evalue": "not enough values to unpack (expected 2, got 0)",
     "output_type": "error",
     "traceback": [
      "\u001b[0;31m---------------------------------------------------------------------------\u001b[0m",
      "\u001b[0;31mValueError\u001b[0m                                Traceback (most recent call last)",
      "\u001b[0;32m<ipython-input-50-984684a53ac5>\u001b[0m in \u001b[0;36m<module>\u001b[0;34m\u001b[0m\n\u001b[1;32m      3\u001b[0m \u001b[0minput\u001b[0m \u001b[0;34m=\u001b[0m \u001b[0msys\u001b[0m\u001b[0;34m.\u001b[0m\u001b[0mstdin\u001b[0m\u001b[0;34m.\u001b[0m\u001b[0mreadline\u001b[0m\u001b[0;34m\u001b[0m\u001b[0;34m\u001b[0m\u001b[0m\n\u001b[1;32m      4\u001b[0m \u001b[0;34m\u001b[0m\u001b[0m\n\u001b[0;32m----> 5\u001b[0;31m \u001b[0mn\u001b[0m\u001b[0;34m,\u001b[0m \u001b[0mq\u001b[0m \u001b[0;34m=\u001b[0m \u001b[0mmap\u001b[0m\u001b[0;34m(\u001b[0m\u001b[0mint\u001b[0m\u001b[0;34m,\u001b[0m \u001b[0minput\u001b[0m\u001b[0;34m(\u001b[0m\u001b[0;34m)\u001b[0m\u001b[0;34m.\u001b[0m\u001b[0msplit\u001b[0m\u001b[0;34m(\u001b[0m\u001b[0;34m)\u001b[0m\u001b[0;34m)\u001b[0m\u001b[0;34m\u001b[0m\u001b[0;34m\u001b[0m\u001b[0m\n\u001b[0m\u001b[1;32m      6\u001b[0m \u001b[0mtree\u001b[0m \u001b[0;34m=\u001b[0m \u001b[0;34m[\u001b[0m\u001b[0;34m[\u001b[0m\u001b[0;34m]\u001b[0m \u001b[0;32mfor\u001b[0m \u001b[0m_\u001b[0m \u001b[0;32min\u001b[0m \u001b[0mrange\u001b[0m\u001b[0;34m(\u001b[0m\u001b[0mn\u001b[0m\u001b[0;34m)\u001b[0m\u001b[0;34m]\u001b[0m\u001b[0;34m\u001b[0m\u001b[0;34m\u001b[0m\u001b[0m\n\u001b[1;32m      7\u001b[0m \u001b[0;34m\u001b[0m\u001b[0m\n",
      "\u001b[0;31mValueError\u001b[0m: not enough values to unpack (expected 2, got 0)"
     ]
    }
   ],
   "source": [
    "from collections import deque\n",
    "import sys\n",
    "# inputs = sys.stdin.readlines\n",
    " \n",
    "n, q = map(int, inputs[0].split())\n",
    "tree = [[] for _ in range(n)]\n",
    "\n",
    "tree = defaultdict(lambda: dict({'val': 0, 'childs': []}))\n",
    "for x in inputs[1:n]:\n",
    "    from_, to_ = map(int, x.split())\n",
    "    nodes[from_]['childs'].append(to_)\n",
    "\n",
    "# for _ in range(n-1):\n",
    "#     a, b = map(int, input().split())\n",
    "#     tree[a-1].append(b-1)\n",
    "#     tree[b-1].append(a-1)\n",
    "subtree_roots = defaultdict(int)\n",
    "for x in inputs[n:]:\n",
    "    node, val = map(int, x.split())\n",
    "    subtree_roots[node] += val\n",
    "\n",
    "# ans = [0] * n\n",
    "# \n",
    "# for _ in range(q):\n",
    "#     p, x = map(int, input().split())\n",
    "#     ans[p-1] += x\n",
    "\n",
    "query = deque([(0, -1)]) # current, parent\n",
    "while query:\n",
    "    current_node, parent_node = query.popleft()\n",
    "    current_value = ans[current_node]\n",
    "    for node in tree[current_node]:\n",
    "        if node == parent_node:\n",
    "            continue\n",
    "        else:\n",
    "            ans[node] += current_value\n",
    "            query.append([node, current_node])\n",
    "\n",
    "print(*ans)"
   ]
  },
  {
   "cell_type": "code",
   "execution_count": 49,
   "metadata": {},
   "outputs": [
    {
     "name": "stdout",
     "output_type": "stream",
     "text": [
      "100 110 111\n"
     ]
    }
   ],
   "source": [
    "from collections import deque, defaultdict\n",
    "\n",
    "import sys\n",
    "inputs = sys.stdin.readlines()\n",
    "n, q = list(map(int, inputs[0].split()))\n",
    "\n",
    "def dfs_generator(nodes, start):\n",
    "    nexts = deque([start])\n",
    "    while nexts:\n",
    "        node = nexts.popleft()\n",
    "        nexts.extend(nodes[node]['childs'])\n",
    "        yield node\n",
    "\n",
    "nodes = defaultdict(lambda: dict({'val': 0, 'childs': []}))\n",
    "for x in inputs[1:n]:\n",
    "    from_, to_ = map(int, x.split())\n",
    "    nodes[from_]['childs'].append(to_)\n",
    "\n",
    "subtree_roots = defaultdict(int)\n",
    "for x in inputs[n:]:\n",
    "    node, val = map(int, x.split())\n",
    "    subtree_roots[node] += val\n",
    "\n",
    "subtrees = defaultdict(list)\n",
    "for root, val in subtree_roots.items():\n",
    "    gen = dfs_generator(nodes, root)\n",
    "    try:\n",
    "        while True:\n",
    "            node = next(gen)\n",
    "            subtrees[root].append(node) \n",
    "    except StopIteration:\n",
    "        pass\n",
    "    for node in subtrees[root]:\n",
    "        nodes[node]['val'] += val\n",
    "\n",
    "for i in range(1, n):\n",
    "    print('%d' %(nodes[i]['val']), end=' ')\n",
    "print('%d' %(nodes[i+1]['val']))\n"
   ]
  },
  {
   "cell_type": "code",
   "execution_count": null,
   "metadata": {},
   "outputs": [],
   "source": [
    "def bfs_generator(nodes, start):\n",
    "    nexts = deque([start])\n",
    "    while nexts:\n",
    "        node = nexts.popleft()\n",
    "        nexts.extendleft(nodes[node]['childs'])\n",
    "        yield node\n",
    "\n",
    "def edges2tree(edges):\n",
    "    tree = dict({1: dict({'val': 0, 'parent': 0, 'childs': []})})\n",
    "    for from_, to_ in edges:\n",
    "        nodes[from_]['childs'].append(to_)\n",
    "        nodes[to_] = dict({'val': 0, 'parent': from_, 'childs': []})\n",
    "    return tree"
   ]
  },
  {
   "cell_type": "markdown",
   "metadata": {},
   "source": [
    "# 3"
   ]
  },
  {
   "cell_type": "markdown",
   "metadata": {},
   "source": [
    "sample data 1"
   ]
  },
  {
   "cell_type": "raw",
   "metadata": {},
   "source": [
    "2\n",
    "3 4"
   ]
  },
  {
   "cell_type": "raw",
   "metadata": {},
   "source": [
    "3.5"
   ]
  },
  {
   "cell_type": "markdown",
   "metadata": {},
   "source": [
    "sample data 2"
   ]
  },
  {
   "cell_type": "raw",
   "metadata": {},
   "source": [
    "3\n",
    "500 300 200"
   ]
  },
  {
   "cell_type": "raw",
   "metadata": {},
   "source": [
    "375"
   ]
  },
  {
   "cell_type": "markdown",
   "metadata": {},
   "source": [
    "sample data 3"
   ]
  },
  {
   "cell_type": "raw",
   "metadata": {},
   "source": [
    "5\n",
    "138 138 138 138 138"
   ]
  },
  {
   "cell_type": "raw",
   "metadata": {},
   "source": [
    "138"
   ]
  },
  {
   "cell_type": "markdown",
   "metadata": {},
   "source": [
    "boundary data 1"
   ]
  },
  {
   "cell_type": "raw",
   "metadata": {},
   "source": []
  },
  {
   "cell_type": "raw",
   "metadata": {},
   "source": []
  },
  {
   "cell_type": "markdown",
   "metadata": {},
   "source": [
    "boundary data 2"
   ]
  },
  {
   "cell_type": "raw",
   "metadata": {},
   "source": []
  },
  {
   "cell_type": "raw",
   "metadata": {},
   "source": []
  },
  {
   "cell_type": "raw",
   "metadata": {},
   "source": [
    "import sys\n",
    "inputs = sys.stdin.readlines()"
   ]
  },
  {
   "cell_type": "code",
   "execution_count": 49,
   "metadata": {},
   "outputs": [],
   "source": [
    "n = int(inputs[0])\n",
    "v_list = list(map(int, inputs[1].split()))"
   ]
  },
  {
   "cell_type": "code",
   "execution_count": 50,
   "metadata": {},
   "outputs": [
    {
     "data": {
      "text/plain": [
       "[138, 138, 138, 138, 138]"
      ]
     },
     "execution_count": 50,
     "metadata": {},
     "output_type": "execute_result"
    }
   ],
   "source": [
    "v = sorted(v_list)\n",
    "v"
   ]
  },
  {
   "cell_type": "code",
   "execution_count": 51,
   "metadata": {},
   "outputs": [
    {
     "name": "stdout",
     "output_type": "stream",
     "text": [
      "138.0\n"
     ]
    }
   ],
   "source": [
    "for _ in range(len(v)-1):\n",
    "    val = (v[1] - v[0]) / 2\n",
    "    val = (v.pop(0) + v.pop(0)) / 2\n",
    "    v.insert(0, val)\n",
    "print(val)"
   ]
  },
  {
   "cell_type": "code",
   "execution_count": 36,
   "metadata": {},
   "outputs": [],
   "source": [
    "n = 50\n",
    "v = [1 for _ in range(n)]"
   ]
  },
  {
   "cell_type": "code",
   "execution_count": 38,
   "metadata": {},
   "outputs": [],
   "source": [
    "n = 50\n",
    "v = list(range(n))"
   ]
  }
 ],
 "metadata": {
  "kernelspec": {
   "display_name": "Environment (conda_atcoder)",
   "language": "python",
   "name": "conda_atcoder"
  },
  "language_info": {
   "codemirror_mode": {
    "name": "ipython",
    "version": 3
   },
   "file_extension": ".py",
   "mimetype": "text/x-python",
   "name": "python",
   "nbconvert_exporter": "python",
   "pygments_lexer": "ipython3",
   "version": "3.4.3"
  }
 },
 "nbformat": 4,
 "nbformat_minor": 2
}
