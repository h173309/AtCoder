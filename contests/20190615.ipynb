{
 "cells": [
  {
   "cell_type": "code",
   "execution_count": 1,
   "metadata": {},
   "outputs": [],
   "source": [
    "from IPython.core.interactiveshell import InteractiveShell\n",
    "InteractiveShell.ast_node_interactivity = 'all'"
   ]
  },
  {
   "cell_type": "code",
   "execution_count": 2,
   "metadata": {},
   "outputs": [],
   "source": [
    "# template\n",
    "import sys\n",
    "sys.setrecursionlimit(10000)\n",
    "args = sys.stdin.readlines()\n",
    "tmp = [int(x) for x in args[1].split(' ')]\n",
    "N, M = tmp[0], tmp[1]\n",
    "list_ = [int(x) for x in args[2:]]"
   ]
  },
  {
   "cell_type": "code",
   "execution_count": null,
   "metadata": {},
   "outputs": [],
   "source": [
    "from itertools import accumulate\n",
    "from collections import Counter"
   ]
  },
  {
   "cell_type": "code",
   "execution_count": 11,
   "metadata": {},
   "outputs": [
    {
     "name": "stdout",
     "output_type": "stream",
     "text": [
      "5\n"
     ]
    }
   ],
   "source": [
    "# 1\n",
    "import sys\n",
    "args = sys.stdin.readlines()\n",
    "tmp = [int(x) for x in args[0].split(' ')]\n",
    "N, K = tmp[0], tmp[1]"
   ]
  },
  {
   "cell_type": "code",
   "execution_count": 1,
   "metadata": {},
   "outputs": [],
   "source": [
    "N, K = 8, 5"
   ]
  },
  {
   "cell_type": "code",
   "execution_count": 2,
   "metadata": {},
   "outputs": [
    {
     "name": "stdout",
     "output_type": "stream",
     "text": [
      "-3\n"
     ]
    }
   ],
   "source": [
    "if K == 1:\n",
    "    print(0)\n",
    "    exit()\n",
    "print(N-K)"
   ]
  },
  {
   "cell_type": "code",
   "execution_count": 19,
   "metadata": {},
   "outputs": [
    {
     "name": "stdout",
     "output_type": "stream",
     "text": [
      "0\n"
     ]
    }
   ],
   "source": [
    "# 2\n",
    "import sys\n",
    "sys.setrecursionlimit(10000)\n",
    "args = sys.stdin.readlines()\n",
    "N = int(args[0])\n",
    "xy_list = [[int(y) for y in x.split(' ')] for x in args[1:]]"
   ]
  },
  {
   "cell_type": "code",
   "execution_count": 51,
   "metadata": {},
   "outputs": [],
   "source": [
    "N = 1\n",
    "xy_list = [[1, 1]]"
   ]
  },
  {
   "cell_type": "code",
   "execution_count": 52,
   "metadata": {},
   "outputs": [
    {
     "name": "stdout",
     "output_type": "stream",
     "text": [
      "1\n"
     ]
    }
   ],
   "source": [
    "from collections import Counter, defaultdict\n",
    "\n",
    "delta_dict = defaultdict(int)\n",
    "\n",
    "if N == 1:\n",
    "    print(1)\n",
    "else:\n",
    "    for i in range(N):\n",
    "        for j in range(N):\n",
    "            if i != j:\n",
    "                delta_dict[(xy_list[i][0] - xy_list[j][0], xy_list[i][1] - xy_list[j][1])] += 1\n",
    "\n",
    "    print(N - Counter(delta_dict).most_common()[0][1])\n"
   ]
  },
  {
   "cell_type": "code",
   "execution_count": 14,
   "metadata": {},
   "outputs": [
    {
     "name": "stdout",
     "output_type": "stream",
     "text": [
      "70933\n"
     ]
    }
   ],
   "source": [
    "# 3\n",
    "import sys\n",
    "sys.setrecursionlimit(10000)\n",
    "args = sys.stdin.readlines()\n",
    "N = int(args[0])\n",
    "x_list = [int(x) for x in args[1].split(' ')]"
   ]
  },
  {
   "cell_type": "code",
   "execution_count": 48,
   "metadata": {},
   "outputs": [
    {
     "name": "stdout",
     "output_type": "stream",
     "text": [
      "1 0 2\n"
     ]
    }
   ],
   "source": [
    "N = 3\n",
    "x_list = [1, -1, 2]\n",
    "\n",
    "from collections import deque\n",
    "\n",
    "neg, pos, zero = 0, 0, 0\n",
    "for i, x in enumerate(sorted(x_list)):\n",
    "    if x < 0:\n",
    "        neg += 1\n",
    "    elif x == 0:\n",
    "        zero += 1\n",
    "    else:\n",
    "        pos = N - neg - zero\n",
    "        break\n",
    "        \n",
    "print(neg, zero, pos)\n",
    "\n",
    "if neg < pos:\n",
    "    \n",
    "\n",
    "# x_que = deque(sorted(x_list))\n",
    "# print(x_que)\n",
    "\n",
    "# for _ in range(N):\n",
    "    \n",
    "#     x_que.append(x_que.pop() - x_que.popleft())\n",
    "#     print(x_que)\n",
    "    \n",
    "    "
   ]
  },
  {
   "cell_type": "code",
   "execution_count": 34,
   "metadata": {},
   "outputs": [
    {
     "name": "stdout",
     "output_type": "stream",
     "text": [
      "4\n"
     ]
    }
   ],
   "source": [
    "\n",
    "        \n",
    "\n",
    "if N == 2:\n",
    "    print()\n",
    "elif N == 3:\n",
    "    print(-x_list[0] + abs(x_list[1]) + x_list[-1])"
   ]
  },
  {
   "cell_type": "code",
   "execution_count": null,
   "metadata": {},
   "outputs": [],
   "source": []
  }
 ],
 "metadata": {
  "kernelspec": {
   "display_name": "Environment (conda_atcoder)",
   "language": "python",
   "name": "conda_atcoder"
  },
  "language_info": {
   "codemirror_mode": {
    "name": "ipython",
    "version": 3
   },
   "file_extension": ".py",
   "mimetype": "text/x-python",
   "name": "python",
   "nbconvert_exporter": "python",
   "pygments_lexer": "ipython3",
   "version": "3.7.3"
  }
 },
 "nbformat": 4,
 "nbformat_minor": 2
}
