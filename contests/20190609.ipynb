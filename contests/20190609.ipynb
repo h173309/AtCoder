{
 "cells": [
  {
   "cell_type": "code",
   "execution_count": 4,
   "metadata": {},
   "outputs": [
    {
     "data": {
      "application/vnd.jupyter.widget-view+json": {
       "model_id": "f24b45a1a5644cf093efd4f91499bb03",
       "version_major": 2,
       "version_minor": 0
      },
      "text/plain": [
       "Textarea(value='')"
      ]
     },
     "metadata": {},
     "output_type": "display_data"
    }
   ],
   "source": [
    "from ipywidgets import Textarea\n",
    "\n",
    "def get_input(change):\n",
    "    global Inputs\n",
    "    Inputs=change['new']\n",
    "\n",
    "textarea = Textarea()\n",
    "textarea.observe(get_input, names='value')\n",
    "display(textarea)"
   ]
  },
  {
   "cell_type": "code",
   "execution_count": 10,
   "metadata": {},
   "outputs": [
    {
     "data": {
      "text/plain": [
       "['']"
      ]
     },
     "execution_count": 10,
     "metadata": {},
     "output_type": "execute_result"
    }
   ],
   "source": [
    "import sys\n",
    "sys.stdin.readline().split(' ')"
   ]
  },
  {
   "cell_type": "code",
   "execution_count": 5,
   "metadata": {},
   "outputs": [
    {
     "name": "stdout",
     "output_type": "stream",
     "text": [
      "100 ['5', '1', '23', '45', '67', '89']\n"
     ]
    }
   ],
   "source": [
    "n, *a = Inputs.split()\n",
    "print(n, a)"
   ]
  },
  {
   "cell_type": "code",
   "execution_count": 11,
   "metadata": {},
   "outputs": [
    {
     "name": "stdout",
     "output_type": "stream",
     "text": [
      "5\n"
     ]
    }
   ],
   "source": [
    "# 1\n",
    "import sys\n",
    "from itertools import combinations\n",
    "\n",
    "# distances = [int(x) for x in sys.stdin.readline().split(' ')]\n",
    "distances = [3, 2, 3]\n",
    "print(min([sum(x) for x in combinations(distances, 2)]))"
   ]
  },
  {
   "cell_type": "code",
   "execution_count": 19,
   "metadata": {},
   "outputs": [
    {
     "name": "stdout",
     "output_type": "stream",
     "text": [
      "0\n"
     ]
    }
   ],
   "source": [
    "# 2\n",
    "import sys\n",
    "from itertools import accumulate\n",
    "\n",
    "# N = [int(x) for x in sys.stdin.readline().split(' ')]\n",
    "# w_list = [int(x) for x in sys.stdin.readline().split(' ')]\n",
    "N = 3\n",
    "w_list = [1, 2, 3]\n",
    "\n",
    "s = sum(w_list)\n",
    "\n",
    "min_s = s\n",
    "for s1 in accumulate(w_list):\n",
    "    s2 = s - s1\n",
    "    tmp = abs(s1 - s2)\n",
    "    if tmp < min_s:\n",
    "        min_s = tmp\n",
    "        \n",
    "print(min_s)"
   ]
  },
  {
   "cell_type": "code",
   "execution_count": 14,
   "metadata": {},
   "outputs": [
    {
     "name": "stdout",
     "output_type": "stream",
     "text": [
      "70933\n"
     ]
    }
   ],
   "source": [
    "# 3\n",
    "import sys\n",
    "sys.setrecursionlimit(10000)\n",
    "\n",
    "mod = 10 ** 9 + 7\n",
    "n, m = map(int, sys.stdin.readline().split(' '))\n",
    "if m > 0:\n",
    "    skip_set = set(map(int, sys.stdin))\n",
    "else:\n",
    "    skip_set = set()\n",
    "\n",
    "dp = [0] * (n + 1)\n",
    "dp[0] = 1\n",
    "dp[1] = 1 if 1 not in skip_set else 0\n",
    "\n",
    "for i in range(2, n+1):\n",
    "    if i not in skip_set:\n",
    "        dp[i] = (dp[i-1] + dp[i-2]) % mod\n",
    "\n",
    "print(dp[n])"
   ]
  },
  {
   "cell_type": "code",
   "execution_count": 11,
   "metadata": {},
   "outputs": [],
   "source": [
    "inputs = sys.stdin.readlines()\n",
    "n, m = [int(x) for x in inputs[0].split(' ')]\n",
    "skip_set = set(inputs[1:])"
   ]
  },
  {
   "cell_type": "code",
   "execution_count": null,
   "metadata": {},
   "outputs": [],
   "source": []
  }
 ],
 "metadata": {
  "kernelspec": {
   "display_name": "Environment (conda_atcoder)",
   "language": "python",
   "name": "conda_atcoder"
  },
  "language_info": {
   "codemirror_mode": {
    "name": "ipython",
    "version": 3
   },
   "file_extension": ".py",
   "mimetype": "text/x-python",
   "name": "python",
   "nbconvert_exporter": "python",
   "pygments_lexer": "ipython3",
   "version": "3.7.3"
  }
 },
 "nbformat": 4,
 "nbformat_minor": 2
}
