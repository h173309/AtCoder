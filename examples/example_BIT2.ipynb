{
 "cells": [
  {
   "cell_type": "markdown",
   "metadata": {},
   "source": [
    "# [BIT](https://atcoder.jp/contests/chokudai_S001/tasks/chokudai_S001_j)"
   ]
  },
  {
   "cell_type": "raw",
   "metadata": {},
   "source": [
    "20\n",
    "19 11 10 7 8 9 17 18 20 4 3 15 16 1 5 14 6 2 13 12"
   ]
  },
  {
   "cell_type": "raw",
   "metadata": {},
   "source": [
    "114"
   ]
  },
  {
   "cell_type": "code",
   "execution_count": 1,
   "metadata": {},
   "outputs": [],
   "source": [
    "from IPython.core.interactiveshell import InteractiveShell\n",
    "InteractiveShell.ast_node_interactivity = 'all'"
   ]
  },
  {
   "cell_type": "code",
   "execution_count": 2,
   "metadata": {},
   "outputs": [
    {
     "data": {
      "application/vnd.jupyter.widget-view+json": {
       "model_id": "c60d286f5d8d430c854e22be05fa3a9f",
       "version_major": 2,
       "version_minor": 0
      },
      "text/plain": [
       "Textarea(value='')"
      ]
     },
     "metadata": {},
     "output_type": "display_data"
    }
   ],
   "source": [
    "from ipywidgets import Textarea\n",
    "\n",
    "def get_input(change):\n",
    "    global inputs\n",
    "    inputs = change['new'].split('\\n')\n",
    "\n",
    "textarea = Textarea()\n",
    "textarea.observe(get_input, names='value')\n",
    "display(textarea)"
   ]
  },
  {
   "cell_type": "code",
   "execution_count": 3,
   "metadata": {},
   "outputs": [],
   "source": [
    "# Binary Indexed Tree\n",
    "class Bit:\n",
    "    \"\"\"\n",
    "    Binary Indexed Tree (BIT)\n",
    "    \n",
    "      区間和     : O(log n)\n",
    "      データ更新 : O(log n)\n",
    "    \"\"\"\n",
    "    def __init__(self, n):\n",
    "        self.size = n\n",
    "        self.tree = [0]*n\n",
    "        self._idx = -1\n",
    "    \n",
    "    def __next__(self):\n",
    "        if self._idx+1 == self.size:\n",
    "            self._idx = 0\n",
    "            raise StopIteration()\n",
    "        self._idx += 1\n",
    "        return self.__getitem__(self._idx)\n",
    "    \n",
    "    def __len__(self):\n",
    "        return self.size\n",
    "    \n",
    "    def __sum__(self):\n",
    "        return self.tree[-1]\n",
    "    \n",
    "    def __getitem__(self, key):\n",
    "        if not (0 <= key < self.size): raise IndexError(\"error!\")\n",
    "        return self.sum(key+1) - self.sum(key)\n",
    "\n",
    "    def __setitem__(self, key, value):\n",
    "        if not (0 <= key < self.size): raise IndexError(\"error!\")\n",
    "        self.add(key, value - self[key])\n",
    "    \n",
    "    def __str__(self):\n",
    "        return str(list(self))\n",
    "\n",
    "    def __repr__(self):\n",
    "        return repr(list(self))\n",
    "    \n",
    "    def sum(self, i):\n",
    "        '''\n",
    "        [0, i) の総和\n",
    "        '''\n",
    "        if not (0 <= i <= self.size): raise ValueError(\"error!\")\n",
    "        s = 0\n",
    "        i -= 1\n",
    "        while i >= 0:\n",
    "            s += self.tree[i]\n",
    "            i = (i & (i+1)) - 1\n",
    "        return s\n",
    "\n",
    "    def add(self, i, x=0):\n",
    "        '''\n",
    "        i番目の要素にxを足す\n",
    "        '''\n",
    "        if not (0 <= i < self.size): raise ValueError(\"error!\")\n",
    "        while i < self.size:\n",
    "            self.tree[i] += x\n",
    "            i |= i + 1\n"
   ]
  },
  {
   "cell_type": "raw",
   "metadata": {},
   "source": [
    "import sys\n",
    "inputs = sys.stdin.readlines()"
   ]
  },
  {
   "cell_type": "code",
   "execution_count": 4,
   "metadata": {},
   "outputs": [
    {
     "name": "stdout",
     "output_type": "stream",
     "text": [
      "114\n"
     ]
    }
   ],
   "source": [
    "N = int(inputs[0])\n",
    "A = list(map(int, inputs[1].split()))\n",
    "\n",
    "bit = Bit(N+1)\n",
    "ans = 0\n",
    "for i, x in enumerate(A):\n",
    "    ans += i - bit.sum(x)\n",
    "    bit.add(x, 1)\n",
    "    \n",
    "print(ans)"
   ]
  },
  {
   "cell_type": "code",
   "execution_count": null,
   "metadata": {},
   "outputs": [],
   "source": []
  }
 ],
 "metadata": {
  "kernelspec": {
   "display_name": "Environment (conda_atcoder)",
   "language": "python",
   "name": "conda_atcoder"
  },
  "language_info": {
   "codemirror_mode": {
    "name": "ipython",
    "version": 3
   },
   "file_extension": ".py",
   "mimetype": "text/x-python",
   "name": "python",
   "nbconvert_exporter": "python",
   "pygments_lexer": "ipython3",
   "version": "3.7.4"
  },
  "widgets": {
   "application/vnd.jupyter.widget-state+json": {
    "state": {},
    "version_major": 2,
    "version_minor": 0
   }
  }
 },
 "nbformat": 4,
 "nbformat_minor": 4
}
