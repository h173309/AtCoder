{
 "cells": [
  {
   "cell_type": "markdown",
   "metadata": {},
   "source": [
    "# [組み合わせの数](https://yukicoder.me/problems/no/117)"
   ]
  },
  {
   "cell_type": "raw",
   "metadata": {},
   "source": [
    "10\n",
    "P(702335,182588)\n",
    "H(348528,503443)\n",
    "H(580983,317796)\n",
    "P(73923,475395)\n",
    "H(624826,348196)\n",
    "H(978487,121670)\n",
    "H(541932,14501)\n",
    "C(710592,306554)"
   ]
  },
  {
   "cell_type": "raw",
   "metadata": {},
   "source": [
    "872804403\n",
    "444677972\n",
    "118133008\n",
    "0\n",
    "674817572\n",
    "263842385\n",
    "122421643\n",
    "791955010\n",
    "130135722"
   ]
  },
  {
   "cell_type": "code",
   "execution_count": 1,
   "metadata": {},
   "outputs": [],
   "source": [
    "from IPython.core.interactiveshell import InteractiveShell\n",
    "InteractiveShell.ast_node_interactivity = 'all'"
   ]
  },
  {
   "cell_type": "code",
   "execution_count": 2,
   "metadata": {},
   "outputs": [
    {
     "data": {
      "application/vnd.jupyter.widget-view+json": {
       "model_id": "9e4b1501e6aa439a999051bb06e5fd2e",
       "version_major": 2,
       "version_minor": 0
      },
      "text/plain": [
       "Textarea(value='')"
      ]
     },
     "metadata": {},
     "output_type": "display_data"
    }
   ],
   "source": [
    "from ipywidgets import Textarea\n",
    "\n",
    "def get_input(change):\n",
    "    global inputs\n",
    "    inputs = change['new'].split('\\n')\n",
    "\n",
    "textarea = Textarea()\n",
    "textarea.observe(get_input, names='value')\n",
    "display(textarea)"
   ]
  },
  {
   "cell_type": "raw",
   "metadata": {},
   "source": [
    "import sys\n",
    "inputs = sys.stdin.readlines()"
   ]
  },
  {
   "cell_type": "code",
   "execution_count": 3,
   "metadata": {},
   "outputs": [],
   "source": [
    "def is_prime(n):\n",
    "    assert n >= 1,  'Argument Error! n is \"1 <= n\".'\n",
    "    for i in range(2, n + 1):\n",
    "        if i ** 2 > n:\n",
    "            break\n",
    "        if n % i == 0:\n",
    "            return False\n",
    "    return n != 1\n",
    "\n",
    "def xgcd(a, b):\n",
    "    x0, y0, x1, y1 = 1, 0, 0, 1\n",
    "    while b != 0:\n",
    "        q, a, b = a // b, b, a % b\n",
    "        x0, x1 = x1, x0 - q * x1\n",
    "        y0, y1 = y1, y0 - q * y1\n",
    "    return a, x0, y0\n",
    "\n",
    "def modinv(a, mod):\n",
    "    g, x, y = xgcd(a, mod)\n",
    "    assert g == 1, 'modular inverse does not exist'\n",
    "    return x % mod\n",
    "\n",
    "factorials = [1]\n",
    "def factorial(n, mod):\n",
    "    # n! % mod\n",
    "    assert n >= 0, 'Argument Error! n is \"0 <= n\".'\n",
    "    if len(factorials) < n+1:\n",
    "        for i in range(len(factorials), n+1):\n",
    "            factorials.append(factorials[-1]*i % mod)\n",
    "    return factorials[n]\n",
    "\n",
    "def comb(n, r, mod):\n",
    "    # nCr % mod\n",
    "    assert n >= 0, 'Argument Error! n is \"0 <= n\".'\n",
    "    assert n >= r >= 0, 'Argument Error! r is \"0 <= r <= n\".'\n",
    "    \n",
    "    return perm(n, r, mod) * modinv(factorial(r, mod), mod) % mod\n",
    "\n",
    "def comb_with_repetition(n, r, mod):\n",
    "    # nHr % mod\n",
    "    assert n >= 0, 'Argument Error! n is \"0 <= n\".'\n",
    "    assert n+r-1 >= r >= 0, 'Argument Error! r is \"0 <= r <= n+r-1\".'\n",
    "    \n",
    "    return comb(n+r-1, r, mod)\n",
    "\n",
    "def perm(n, r, mod):\n",
    "    # nPr % mod\n",
    "    assert n >= 0, 'Argument Error! n is \"0 <= n\".'\n",
    "    assert n >= r >= 0, 'Argument Error! r is \"0 <= r <= n\".'\n",
    "    return factorial(n, mod) * modinv(factorial(n-r, mod), mod) % mod"
   ]
  },
  {
   "cell_type": "code",
   "execution_count": 5,
   "metadata": {},
   "outputs": [
    {
     "name": "stdout",
     "output_type": "stream",
     "text": [
      "872804403\n",
      "444677972\n",
      "118133008\n",
      "0\n",
      "674817572\n",
      "263842385\n",
      "122421643\n",
      "791955010\n"
     ]
    }
   ],
   "source": [
    "N = int(inputs[0])\n",
    "data = [x.translate(str.maketrans({'(': ',', ')': ''})).split(',') for x in inputs[1:N+1]]\n",
    "data = [(x[0], int(x[1]), int(x[2])) for x in data]\n",
    "\n",
    "MOD = 10 ** 9 + 7\n",
    "\n",
    "for x in data:\n",
    "    try:\n",
    "        if x[0] == 'C':\n",
    "            print(comb(x[1], x[2], MOD))\n",
    "        elif x[0] == 'P':\n",
    "            print(perm(x[1], x[2], MOD))\n",
    "        else:\n",
    "            print(comb_with_repetition(x[1], x[2], MOD))\n",
    "    except:\n",
    "        print(0)"
   ]
  },
  {
   "cell_type": "code",
   "execution_count": null,
   "metadata": {},
   "outputs": [],
   "source": []
  }
 ],
 "metadata": {
  "kernelspec": {
   "display_name": "Environment (conda_atcoder)",
   "language": "python",
   "name": "conda_atcoder"
  },
  "language_info": {
   "codemirror_mode": {
    "name": "ipython",
    "version": 3
   },
   "file_extension": ".py",
   "mimetype": "text/x-python",
   "name": "python",
   "nbconvert_exporter": "python",
   "pygments_lexer": "ipython3",
   "version": "3.7.4"
  },
  "widgets": {
   "application/vnd.jupyter.widget-state+json": {
    "state": {
     "9e4b1501e6aa439a999051bb06e5fd2e": {
      "model_module": "@jupyter-widgets/controls",
      "model_module_version": "1.4.0",
      "model_name": "TextareaModel",
      "state": {
       "_model_module_version": "1.4.0",
       "_view_module_version": "1.4.0",
       "layout": "IPY_MODEL_e80f41339a3f4c098567e145fa2c72a3",
       "style": "IPY_MODEL_aa6e9b5eda3b45f5a57727868022cf93",
       "value": "10\nP(702335,182588)\nH(348528,503443)\nH(580983,317796)\nP(73923,475395)\nH(624826,348196)\nH(978487,121670)\nH(541932,14501)\nC(710592,306554)"
      }
     },
     "aa6e9b5eda3b45f5a57727868022cf93": {
      "model_module": "@jupyter-widgets/controls",
      "model_module_version": "1.4.0",
      "model_name": "DescriptionStyleModel",
      "state": {
       "_model_module_version": "1.4.0",
       "_view_module_version": "1.1.0",
       "description_width": ""
      }
     },
     "e80f41339a3f4c098567e145fa2c72a3": {
      "model_module": "@jupyter-widgets/base",
      "model_module_version": "1.1.0",
      "model_name": "LayoutModel",
      "state": {
       "_model_module_version": "1.1.0",
       "_view_module_version": "1.1.0"
      }
     }
    },
    "version_major": 2,
    "version_minor": 0
   }
  }
 },
 "nbformat": 4,
 "nbformat_minor": 4
}
