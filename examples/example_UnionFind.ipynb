{
 "cells": [
  {
   "cell_type": "markdown",
   "metadata": {},
   "source": [
    "# [Union_Find](https://atcoder.jp/contests/atc001/tasks/unionfind_a)"
   ]
  },
  {
   "cell_type": "raw",
   "metadata": {},
   "source": [
    "8 9\n",
    "0 1 2\n",
    "0 3 2\n",
    "1 1 3\n",
    "1 1 4\n",
    "0 2 4\n",
    "1 4 1\n",
    "0 4 2\n",
    "0 0 0\n",
    "1 0 0"
   ]
  },
  {
   "cell_type": "raw",
   "metadata": {},
   "source": [
    "Yes\n",
    "No\n",
    "Yes\n",
    "Yes"
   ]
  },
  {
   "cell_type": "code",
   "execution_count": 1,
   "metadata": {},
   "outputs": [
    {
     "data": {
      "application/vnd.jupyter.widget-view+json": {
       "model_id": "4225a7dc87c8495e910bd62111cdc95b",
       "version_major": 2,
       "version_minor": 0
      },
      "text/plain": [
       "Textarea(value='')"
      ]
     },
     "metadata": {},
     "output_type": "display_data"
    }
   ],
   "source": [
    "from ipywidgets import Textarea\n",
    "\n",
    "def get_input(change):\n",
    "    global inputs\n",
    "    inputs = change['new'].split('\\n')\n",
    "\n",
    "textarea = Textarea()\n",
    "textarea.observe(get_input, names='value')\n",
    "display(textarea)"
   ]
  },
  {
   "cell_type": "raw",
   "metadata": {},
   "source": [
    "# https://qiita.com/Kerzival/items/6923c2eb3b91be86f19f\n",
    "\n",
    "class UnionFind():\n",
    "    def __init__(self, n):\n",
    "        self.n = n\n",
    "        self.root = [-1]*(n+1)\n",
    "        self.rnk = [0]*(n+1)\n",
    "\n",
    "    def find_root(self, x):\n",
    "        if(self.root[x] < 0):\n",
    "            return x\n",
    "        else:\n",
    "            self.root[x] = self.find_root(self.root[x])\n",
    "            return self.root[x]\n",
    "    \n",
    "    def unite(self, x, y):\n",
    "        x, y = self.find_root(x), self.find_root(y)\n",
    "        if(x == y):\n",
    "            return \n",
    "        elif(self.rnk[x] > self.rnk[y]):\n",
    "            self.root[x] += self.root[y]\n",
    "            self.root[y] = x\n",
    "        else:\n",
    "            self.root[y] += self.root[x]\n",
    "            self.root[x] = y\n",
    "            if(self.rnk[x] == self.rnk[y]):\n",
    "                self.rnk[y] += 1\n",
    "    \n",
    "    def is_same_group(self, x, y):\n",
    "        return self.find_root(x) == self.find_root(y)\n",
    "\n",
    "    def count(self, x):\n",
    "        return -self.root[self.find_root(x)]\n",
    "    \n",
    "    def __str__(self):\n",
    "        template = 'UnionFind(n: {}, root: {}, rnk: {})'\n",
    "        return template.format(self.n, self.root, self.rnk)\n",
    "    \n",
    "    def __repr__(self):\n",
    "        return self.__str__()"
   ]
  },
  {
   "cell_type": "code",
   "execution_count": 2,
   "metadata": {},
   "outputs": [],
   "source": [
    "from lib.UnionFind import UnionFind"
   ]
  },
  {
   "cell_type": "raw",
   "metadata": {},
   "source": [
    "import sys\n",
    "inputs = sys.stdin.readlines()"
   ]
  },
  {
   "cell_type": "code",
   "execution_count": 3,
   "metadata": {},
   "outputs": [
    {
     "name": "stdout",
     "output_type": "stream",
     "text": [
      "Yes\n",
      "No\n",
      "Yes\n",
      "Yes\n"
     ]
    }
   ],
   "source": [
    "N, Q = map(int, inputs[0].split())\n",
    "queries = [list(map(int, x.split())) for x in inputs[1:]]\n",
    "\n",
    "uf = UnionFind(N)\n",
    "for query in queries:\n",
    "    mode, a, b = query\n",
    "    if mode == 0:\n",
    "        uf.unite(a, b)\n",
    "    else:\n",
    "        print('Yes' if uf.is_same_group(a, b) else 'No')\n"
   ]
  },
  {
   "cell_type": "code",
   "execution_count": null,
   "metadata": {},
   "outputs": [],
   "source": []
  }
 ],
 "metadata": {
  "kernelspec": {
   "display_name": "Environment (conda_atcoder)",
   "language": "python",
   "name": "conda_atcoder"
  },
  "language_info": {
   "codemirror_mode": {
    "name": "ipython",
    "version": 3
   },
   "file_extension": ".py",
   "mimetype": "text/x-python",
   "name": "python",
   "nbconvert_exporter": "python",
   "pygments_lexer": "ipython3",
   "version": "3.7.4"
  }
 },
 "nbformat": 4,
 "nbformat_minor": 2
}
