{
 "cells": [
  {
   "cell_type": "markdown",
   "metadata": {},
   "source": [
    "### 計算量\n",
    "- $N \\simeq 10^6$ → $O(N)$ or $O(N \\log N)$\n",
    "- $N \\simeq 10^5$ → $O(N \\log N)$ or $O(N \\log^2 N)$\n",
    "- $N \\simeq 3000$ → $O(N^2)$\n",
    "- $N \\simeq 300$  → $O(N^3)$ *シンプルな処理\n",
    "- $N \\simeq 100$  → $O(N^3)$\n",
    "- $N \\simeq 50$   → $O(N^4)$\n",
    "- $N \\simeq 20$   → $O(2^N)$"
   ]
  },
  {
   "cell_type": "markdown",
   "metadata": {},
   "source": [
    "### テンプレートインポート"
   ]
  },
  {
   "cell_type": "code",
   "execution_count": 2,
   "metadata": {},
   "outputs": [],
   "source": [
    "from IPython.core.interactiveshell import InteractiveShell\n",
    "InteractiveShell.ast_node_interactivity = 'all'\n",
    "import warnings\n",
    "warnings.simplefilter('ignore')"
   ]
  },
  {
   "cell_type": "code",
   "execution_count": 180,
   "metadata": {},
   "outputs": [],
   "source": [
    "import sys\n",
    "sys.setrecursionlimit(10**6)\n",
    "\n",
    "from copy import deepcopy\n",
    "\n",
    "from fractions import gcd\n",
    "lcm = lambda x, y : x*y // gcd(x, y)\n",
    "\n",
    "from math import floor, ceil\n",
    "from statistics import median, median_low, mode, mean\n",
    "\n",
    "from collections import defaultdict\n",
    "from collections import Counter\n",
    "from collections import deque\n",
    "\n",
    "import bisect\n",
    "bisect_left = bisect.bisect_left\n",
    "\n",
    "from itertools import accumulate\n",
    "from itertools import chain\n",
    "chain_from_iterable = chain.from_iterable\n",
    "from itertools import groupby\n",
    "from itertools import permutations\n",
    "from itertools import combinations\n",
    "from itertools import product\n",
    "from itertools import combinations_with_replacement\n",
    "\n",
    "from functools import reduce"
   ]
  },
  {
   "cell_type": "code",
   "execution_count": 4,
   "metadata": {},
   "outputs": [],
   "source": [
    "import heapq\n",
    "from heapq import heapify, heappush, heappop, _heapify_max\n",
    "def _heappush_max(heap, item):\n",
    "    heap.append(item)\n",
    "    heapq._siftdown_max(heap, 0, len(heap)-1)\n",
    "def _heappop_max(heap):\n",
    "    lastelt = heap.pop()\n",
    "    if heap:\n",
    "        returnitem = heap[0]\n",
    "        heap[0] = lastelt\n",
    "        heapq._siftup_max(heap, 0)\n",
    "        return returnitem\n",
    "    return lastelt"
   ]
  },
  {
   "cell_type": "code",
   "execution_count": 5,
   "metadata": {},
   "outputs": [],
   "source": [
    "import numpy as np\n",
    "from scipy.ndimage import distance_transform_cdt\n",
    "from scipy.sparse.csgraph import shortest_path, floyd_warshall, dijkstra, bellman_ford, johnson\n",
    "from scipy.sparse import csr_matrix\n",
    "from scipy.optimize import newton"
   ]
  },
  {
   "cell_type": "code",
   "execution_count": 6,
   "metadata": {},
   "outputs": [],
   "source": [
    "index_max = lambda l: max(enumerate(l), key=lambda x:x[1])\n",
    "index_min = lambda l: min(enumerate(l), key=lambda x:x[1])"
   ]
  },
  {
   "cell_type": "markdown",
   "metadata": {},
   "source": [
    "### 入力テンプレート"
   ]
  },
  {
   "cell_type": "code",
   "execution_count": 7,
   "metadata": {},
   "outputs": [],
   "source": [
    "## A B\n",
    "# A, B = map(int, inputs[0].split())\n",
    "\n",
    "## N\n",
    "## a1 a2 ... an\n",
    "# N = int(inputs[0])\n",
    "# A = list(map(int, inputs[1].split())\n",
    "\n",
    "## N\n",
    "## a1\n",
    "## ...\n",
    "## an\n",
    "# N = int(inputs[0])\n",
    "# A = list(map(int, inputs[1:])\n",
    "\n",
    "## N M\n",
    "## a11 a12 ... a1m\n",
    "## a21 a22 ... a2m\n",
    "## ... ... ... ...\n",
    "## an1 an2 ... anm\n",
    "# N, M = map(int, inputs[0].split())\n",
    "# A = [list(map(int, x.split())) for x in inputs[1:]]"
   ]
  },
  {
   "cell_type": "markdown",
   "metadata": {},
   "source": [
    "### zero_list"
   ]
  },
  {
   "cell_type": "code",
   "execution_count": 8,
   "metadata": {},
   "outputs": [],
   "source": [
    "# zeros = [[0]*w for i in range(h)]"
   ]
  },
  {
   "cell_type": "markdown",
   "metadata": {},
   "source": [
    "### JupyterLab入力"
   ]
  },
  {
   "cell_type": "code",
   "execution_count": 119,
   "metadata": {},
   "outputs": [
    {
     "data": {
      "application/vnd.jupyter.widget-view+json": {
       "model_id": "b275e63609fd4d41a44a81fb2b49dfd2",
       "version_major": 2,
       "version_minor": 0
      },
      "text/plain": [
       "Textarea(value='')"
      ]
     },
     "metadata": {},
     "output_type": "display_data"
    }
   ],
   "source": [
    "from ipywidgets import Textarea\n",
    "\n",
    "def get_input(change):\n",
    "    global inputs\n",
    "    inputs = change['new'].split('\\n')\n",
    "\n",
    "textarea = Textarea()\n",
    "textarea.observe(get_input, names='value')\n",
    "display(textarea)"
   ]
  },
  {
   "cell_type": "markdown",
   "metadata": {},
   "source": [
    "# ABC C 101"
   ]
  },
  {
   "cell_type": "raw",
   "metadata": {},
   "source": [
    "import sys\n",
    "from math import ceil\n",
    "inputs = sys.stdin.readlines()"
   ]
  },
  {
   "cell_type": "code",
   "execution_count": 42,
   "metadata": {},
   "outputs": [
    {
     "name": "stdout",
     "output_type": "stream",
     "text": [
      "1\n"
     ]
    }
   ],
   "source": [
    "n, k = map(int, inputs[0].split())\n",
    "A = list(map(int, inputs[1].split()))\n",
    "\n",
    "print(ceil((n-k)/(k-1))+1)"
   ]
  },
  {
   "cell_type": "markdown",
   "metadata": {},
   "source": [
    "# ABC C 102"
   ]
  },
  {
   "cell_type": "raw",
   "metadata": {},
   "source": [
    "import sys\n",
    "from statistics import median_low\n",
    "inputs = sys.stdin.readlines()"
   ]
  },
  {
   "cell_type": "code",
   "execution_count": 100,
   "metadata": {},
   "outputs": [
    {
     "name": "stdout",
     "output_type": "stream",
     "text": [
      "12\n"
     ]
    }
   ],
   "source": [
    "n = int(inputs[0])\n",
    "A = list(map(int, inputs[1].split()))\n",
    "\n",
    "B = list(map(lambda x: x[1]-x[0], enumerate(A, 1)))\n",
    "b = median_low(B)\n",
    "print(sum(map(lambda x: abs(x-b), B)))"
   ]
  },
  {
   "cell_type": "markdown",
   "metadata": {},
   "source": [
    "# ABC C 103"
   ]
  },
  {
   "cell_type": "raw",
   "metadata": {},
   "source": [
    "import sys\n",
    "inputs = sys.stdin.readlines()"
   ]
  },
  {
   "cell_type": "code",
   "execution_count": 194,
   "metadata": {},
   "outputs": [
    {
     "name": "stdout",
     "output_type": "stream",
     "text": [
      "4527\n"
     ]
    }
   ],
   "source": [
    "n = int(inputs[0])\n",
    "A = list(map(int, inputs[1].split()))\n",
    "print(sum(A) - len(A))"
   ]
  },
  {
   "cell_type": "markdown",
   "metadata": {},
   "source": [
    "# ABC C 104"
   ]
  },
  {
   "cell_type": "raw",
   "metadata": {},
   "source": [
    "import sys\n",
    "from math import ceil\n",
    "inputs = sys.stdin.readlines()"
   ]
  },
  {
   "cell_type": "code",
   "execution_count": 151,
   "metadata": {},
   "outputs": [
    {
     "name": "stdout",
     "output_type": "stream",
     "text": [
      "66\n"
     ]
    }
   ],
   "source": [
    "d, g = map(int, inputs[0].split())\n",
    "P = list(map(int, map(lambda x: x.split()[0], inputs[1:])))\n",
    "C = list(map(int, map(lambda x: x.split()[1], inputs[1:])))\n",
    "\n",
    "ans = float('inf')\n",
    "for bit in range(1 << d):\n",
    "    count, total, rest = 0, 0, set(range(1, d+1))\n",
    "    for i in range(d):\n",
    "        if bit & (1 << i):\n",
    "            total += P[i] * (i+1) * 100 + C[i]\n",
    "            count += P[i]\n",
    "            rest.discard(i+1)\n",
    "\n",
    "    if total < g:\n",
    "        use = max(rest)\n",
    "        n = ceil((g - total) / (use * 100))\n",
    "        if P[use-1]-1 >= n:\n",
    "            count += n\n",
    "            total += n * use * 100\n",
    "        \n",
    "    if total >= g:\n",
    "        ans = min(ans, count)\n",
    "print(ans) \n"
   ]
  },
  {
   "cell_type": "markdown",
   "metadata": {},
   "source": [
    "# ABC C 105"
   ]
  },
  {
   "cell_type": "raw",
   "metadata": {},
   "source": [
    "import sys\n",
    "inputs = sys.stdin.readlines()"
   ]
  },
  {
   "cell_type": "code",
   "execution_count": 215,
   "metadata": {},
   "outputs": [
    {
     "name": "stdout",
     "output_type": "stream",
     "text": [
      "1011\n"
     ]
    }
   ],
   "source": [
    "n = int(inputs[0])\n",
    "\n",
    "if n == 0:\n",
    "    print(0)\n",
    "else:\n",
    "    m, ans = n, ''\n",
    "    while m:\n",
    "        m, r = divmod(m, 2)\n",
    "        m, ans = -m, '{}{}'.format(r, ans) \n",
    "    print(ans)"
   ]
  },
  {
   "cell_type": "code",
   "execution_count": null,
   "metadata": {},
   "outputs": [],
   "source": []
  }
 ],
 "metadata": {
  "kernelspec": {
   "display_name": "Environment (conda_atcoder)",
   "language": "python",
   "name": "conda_atcoder"
  },
  "language_info": {
   "codemirror_mode": {
    "name": "ipython",
    "version": 3
   },
   "file_extension": ".py",
   "mimetype": "text/x-python",
   "name": "python",
   "nbconvert_exporter": "python",
   "pygments_lexer": "ipython3",
   "version": "3.7.4"
  }
 },
 "nbformat": 4,
 "nbformat_minor": 2
}
