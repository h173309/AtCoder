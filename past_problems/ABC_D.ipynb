{
 "cells": [
  {
   "cell_type": "markdown",
   "metadata": {},
   "source": [
    "### 計算量\n",
    "- $N \\simeq 10^6$ → $O(N)$ or $O(N \\log N)$\n",
    "- $N \\simeq 10^5$ → $O(N \\log N)$ or $O(N \\log^2 N)$\n",
    "- $N \\simeq 3000$ → $O(N^2)$\n",
    "- $N \\simeq 300$  → $O(N^3)$ *シンプルな処理\n",
    "- $N \\simeq 100$  → $O(N^3)$\n",
    "- $N \\simeq 50$   → $O(N^4)$\n",
    "- $N \\simeq 20$   → $O(2^N)$"
   ]
  },
  {
   "cell_type": "markdown",
   "metadata": {},
   "source": [
    "### JupyterLab入力"
   ]
  },
  {
   "cell_type": "code",
   "execution_count": 1,
   "metadata": {},
   "outputs": [
    {
     "data": {
      "application/vnd.jupyter.widget-view+json": {
       "model_id": "8948cef1c0e34a3fb20bf569162baf59",
       "version_major": 2,
       "version_minor": 0
      },
      "text/plain": [
       "Textarea(value='')"
      ]
     },
     "metadata": {},
     "output_type": "display_data"
    }
   ],
   "source": [
    "from ipywidgets import Textarea\n",
    "\n",
    "def get_input(change):\n",
    "    global inputs\n",
    "    inputs = change['new'].split('\\n')\n",
    "\n",
    "textarea = Textarea()\n",
    "textarea.observe(get_input, names='value')\n",
    "display(textarea)"
   ]
  },
  {
   "cell_type": "markdown",
   "metadata": {},
   "source": [
    "### テンプレートインポート"
   ]
  },
  {
   "cell_type": "code",
   "execution_count": 2,
   "metadata": {},
   "outputs": [],
   "source": [
    "from IPython.core.interactiveshell import InteractiveShell\n",
    "InteractiveShell.ast_node_interactivity = 'all'\n",
    "import warnings\n",
    "warnings.simplefilter('ignore')"
   ]
  },
  {
   "cell_type": "code",
   "execution_count": 3,
   "metadata": {},
   "outputs": [],
   "source": [
    "import sys\n",
    "sys.setrecursionlimit(10**6)\n",
    "\n",
    "from copy import deepcopy\n",
    "\n",
    "from fractions import gcd\n",
    "lcm = lambda x, y : x*y // gcd(x, y)\n",
    "from math import floor, ceil\n",
    "from statistics import median, median_low, mode, mean\n",
    "\n",
    "from collections import defaultdict\n",
    "from collections import Counter\n",
    "from collections import deque\n",
    "from collections import OrderedDict\n",
    "\n",
    "import bisect\n",
    "bisect_left = bisect.bisect_left\n",
    "\n",
    "from itertools import accumulate\n",
    "from itertools import chain\n",
    "chain_from_iterable = chain.from_iterable\n",
    "from itertools import groupby\n",
    "from itertools import permutations\n",
    "from itertools import combinations\n",
    "from itertools import product\n",
    "from itertools import combinations_with_replacement\n",
    "\n",
    "from functools import reduce\n",
    "from operator import itemgetter, methodcaller\n",
    "from operator import add, mul, and_, or_, xor\n",
    "gcd_ = lambda *x: reduce(gcd, x)\n",
    "lcm_ = lambda *x: reduce(lcm, x)\n",
    "\n",
    "import heapq\n",
    "from heapq import heapify, heappush, heappop, _heapify_max\n",
    "def _heappush_max(heap, item):\n",
    "    heap.append(item)\n",
    "    heapq._siftdown_max(heap, 0, len(heap)-1)\n",
    "def _heappop_max(heap):\n",
    "    lastelt = heap.pop()\n",
    "    if heap:\n",
    "        returnitem = heap[0]\n",
    "        heap[0] = lastelt\n",
    "        heapq._siftup_max(heap, 0)\n",
    "        return returnitem\n",
    "    return lastelt\n",
    "\n",
    "import numpy as np\n",
    "from scipy.ndimage import distance_transform_cdt\n",
    "from scipy.sparse.csgraph import shortest_path, floyd_warshall, dijkstra, bellman_ford, johnson\n",
    "from scipy.sparse import csr_matrix\n",
    "from scipy.optimize import newton\n",
    "\n",
    "index_max = lambda l: max(enumerate(l), key=lambda x:x[1])\n",
    "index_min = lambda l: min(enumerate(l), key=lambda x:x[1])"
   ]
  },
  {
   "cell_type": "code",
   "execution_count": 76,
   "metadata": {},
   "outputs": [],
   "source": [
    "from functools import lru_cache\n",
    "MOD = 10**9 + 7\n",
    "\n",
    "def is_prime(n):\n",
    "    assert n >= 1,  'Argument Error! n is \"1 <= n\".'\n",
    "    for i in range(2, n + 1):\n",
    "        if i ** 2 > n:\n",
    "            break\n",
    "        if n % i == 0:\n",
    "            return False\n",
    "    return n != 1\n",
    "\n",
    "def xgcd(a, b):\n",
    "    x0, y0, x1, y1 = 1, 0, 0, 1\n",
    "    while b != 0:\n",
    "        q, a, b = a // b, b, a % b\n",
    "        x0, x1 = x1, x0 - q * x1\n",
    "        y0, y1 = y1, y0 - q * y1\n",
    "    return a, x0, y0\n",
    "\n",
    "@lru_cache(maxsize=MOD)\n",
    "def modinv(a, mod):\n",
    "    g, x, y = xgcd(a, mod)\n",
    "    assert g == 1, 'modular inverse does not exist'\n",
    "    return x % mod\n",
    "\n",
    "factorials = [1]\n",
    "def factorial(n, mod):\n",
    "    # n! % mod\n",
    "    assert n >= 0, 'Argument Error! n is \"0 <= n\".'\n",
    "    if len(factorials) < n+1:\n",
    "        for i in range(len(factorials), n+1):\n",
    "            factorials.append(factorials[-1]*i % mod)\n",
    "    return factorials[n]\n",
    "\n",
    "def comb(n, r, mod):\n",
    "    # nCr % mod\n",
    "    assert n >= 0, 'Argument Error! n is {}, not \"0 <= n\".'.format(n)\n",
    "    assert n >= r >= 0, 'Argument Error! r, n are {}, {}, not \"0 <= r <= n\".'.format(r, n)\n",
    "    \n",
    "    return perm(n, r, mod) * modinv(factorial(r, mod), mod) % mod\n",
    "\n",
    "def comb_with_repetition(n, r, mod):\n",
    "    # nHr % mod\n",
    "    assert n >= 0, 'Argument Error! n is \"0 <= n\".'\n",
    "    assert n+r-1 >= r >= 0, 'Argument Error! r is \"0 <= r <= n+r-1\".'\n",
    "    \n",
    "    return comb(n+r-1, r, mod)\n",
    "\n",
    "def perm(n, r, mod):\n",
    "    # nPr % mod\n",
    "    assert n >= 0, 'Argument Error! n is \"0 <= n\".'\n",
    "    assert n >= r >= 0, 'Argument Error! r is \"0 <= r <= n\".'\n",
    "    return factorial(n, mod) * modinv(factorial(n-r, mod), mod) % mod"
   ]
  },
  {
   "cell_type": "markdown",
   "metadata": {},
   "source": [
    "### 入力テンプレート"
   ]
  },
  {
   "cell_type": "raw",
   "metadata": {},
   "source": [
    "A B"
   ]
  },
  {
   "cell_type": "raw",
   "metadata": {},
   "source": [
    "A, B = map(int, inputs[0].split())"
   ]
  },
  {
   "cell_type": "raw",
   "metadata": {},
   "source": [
    "N\n",
    "a1 a2 ... an"
   ]
  },
  {
   "cell_type": "raw",
   "metadata": {},
   "source": [
    "N = int(inputs[0])\n",
    "A = list(map(int, inputs[1].split()))"
   ]
  },
  {
   "cell_type": "raw",
   "metadata": {},
   "source": [
    "N\n",
    "a1\n",
    "...\n",
    "an"
   ]
  },
  {
   "cell_type": "raw",
   "metadata": {},
   "source": [
    "N = int(inputs[0])\n",
    "A = list(map(int, inputs[1:]))"
   ]
  },
  {
   "cell_type": "raw",
   "metadata": {},
   "source": [
    "N M\n",
    "a11 a12 ... a1m\n",
    "a21 a22 ... a2m\n",
    "... ... ... ...\n",
    "an1 an2 ... anm"
   ]
  },
  {
   "cell_type": "raw",
   "metadata": {},
   "source": [
    "N, M = map(int, inputs[0].split())\n",
    "A = [list(map(int, x.split())) for x in inputs[1:]]"
   ]
  },
  {
   "cell_type": "markdown",
   "metadata": {},
   "source": [
    "# [145 Knight](https://atcoder.jp/contests/abc145/tasks/abc145_d)"
   ]
  },
  {
   "cell_type": "raw",
   "metadata": {},
   "source": [
    "import sys\n",
    "inputs = sys.stdin.readlines()"
   ]
  },
  {
   "cell_type": "code",
   "execution_count": null,
   "metadata": {},
   "outputs": [],
   "source": [
    "x, y = sorted(list(map(int, inputs[0].split())))\n",
    "MOD = 10 ** 9 + 7\n",
    "q, r = divmod(x+y, 3)\n",
    "\n",
    "if r != 0:\n",
    "    print(0)\n",
    "else:\n",
    "    try:\n",
    "        print(comb(q, y - q, MOD))\n",
    "    except AssertionError:\n",
    "        print(0)"
   ]
  },
  {
   "cell_type": "markdown",
   "metadata": {},
   "source": [
    "# [142 Disjoint Set of Common Divisors](https://atcoder.jp/contests/abc142/tasks/abc142_d)"
   ]
  },
  {
   "cell_type": "raw",
   "metadata": {},
   "source": [
    "import sys\n",
    "inputs = sys.stdin.readlines()"
   ]
  },
  {
   "cell_type": "code",
   "execution_count": null,
   "metadata": {},
   "outputs": [],
   "source": [
    "def divisors(n):\n",
    "    divisors = []\n",
    "    for i in range(1, int(n**0.5)+1):\n",
    "        if n % i == 0:\n",
    "            divisors.append(i)\n",
    "            if i != n // i:\n",
    "                divisors.append(n//i)\n",
    "    divisors.sort()\n",
    "    return divisors\n",
    "\n",
    "a, b = sorted(list(map(int, inputs[0].split())))\n",
    "divisors_ = set(divisors(a)) & set(divisors(b))\n",
    "\n",
    "prime_divisors = [x for x in divisors_ if is_prime(x)]\n",
    "print(len(prime_divisors) + 1)\n"
   ]
  },
  {
   "cell_type": "markdown",
   "metadata": {},
   "source": [
    "# [138 Ki](https://atcoder.jp/contests/abc138/tasks/abc138_d)"
   ]
  },
  {
   "cell_type": "raw",
   "metadata": {},
   "source": [
    "import sys\n",
    "inputs = sys.stdin.readlines()"
   ]
  },
  {
   "cell_type": "code",
   "execution_count": 32,
   "metadata": {},
   "outputs": [
    {
     "name": "stdout",
     "output_type": "stream",
     "text": [
      "100 110 111 110\n"
     ]
    }
   ],
   "source": [
    "n, q = map(int, inputs[0].split())\n",
    "edges = [tuple(map(int, inputs[1+i].split())) for i in range(n-1)]\n",
    "weights = [tuple(map(int, inputs[n+i].split())) for i in range(q)]\n",
    "\n",
    "tree = [[] for _ in range(n)]\n",
    "for x, y in edges:\n",
    "    tree[x-1].append(y-1)\n",
    "    tree[y-1].append(x-1)\n",
    "\n",
    "val = [0] * n\n",
    "for p, w in weights:\n",
    "    val[p-1] += w\n",
    "\n",
    "stack, parents = [0], [0] * n\n",
    "while stack:\n",
    "    x = stack.pop()\n",
    "    for y in tree[x]:\n",
    "        if y == parents[x]:\n",
    "            continue\n",
    "        parents[y] = x\n",
    "        stack.append(y)\n",
    "        val[y] += val[x]\n",
    "\n",
    "print(*val)"
   ]
  },
  {
   "cell_type": "markdown",
   "metadata": {},
   "source": [
    "# [146 Coloring Edges on Tree](https://atcoder.jp/contests/abc146/tasks/abc146_d)"
   ]
  },
  {
   "cell_type": "raw",
   "metadata": {},
   "source": [
    "import sys\n",
    "from collections import deque, OrderedDict\n",
    "inputs = sys.stdin.readlines()"
   ]
  },
  {
   "cell_type": "code",
   "execution_count": null,
   "metadata": {},
   "outputs": [],
   "source": [
    "n = int(inputs[0])\n",
    "edges = [tuple(map(int, x.split())) for x in inputs[1:]]\n",
    "to_edges = [e[1] for e in edges] \n",
    "\n",
    "tree = [[] for _ in range(n + 1)]\n",
    "for x, y in edges:\n",
    "    tree[x].append(y)\n",
    "\n",
    "queue = deque([1])\n",
    "colors = [0] * (n + 1)\n",
    "while queue:\n",
    "    x = queue.popleft()\n",
    "    c = 0\n",
    "    for y in tree[x]:\n",
    "        c += 1 + (c + 1 == colors[x])\n",
    "        colors[y] = c\n",
    "        queue.append(y)\n",
    "\n",
    "print(max(colors))\n",
    "for e in to_edges:\n",
    "    print(colors[e])"
   ]
  },
  {
   "cell_type": "markdown",
   "metadata": {},
   "source": [
    "# [121 XOR world](https://atcoder.jp/contests/abc121/tasks/abc121_d)"
   ]
  },
  {
   "cell_type": "raw",
   "metadata": {},
   "source": [
    "import sys\n",
    "inputs = sys.stdin.readlines()"
   ]
  },
  {
   "cell_type": "code",
   "execution_count": 104,
   "metadata": {},
   "outputs": [
    {
     "name": "stdout",
     "output_type": "stream",
     "text": [
      "424\n"
     ]
    }
   ],
   "source": [
    "a, b = map(int,inputs[0].split())\n",
    "def f(x):\n",
    "    return [x, 1, x+1, 0][x%4]\n",
    "print(f(a-1)^f(b))"
   ]
  },
  {
   "cell_type": "markdown",
   "metadata": {},
   "source": [
    "# [136 Gathering Children](https://atcoder.jp/contests/abc136/tasks/abc136_d)"
   ]
  },
  {
   "cell_type": "raw",
   "metadata": {},
   "source": [
    "import sys\n",
    "inputs = sys.stdin.readlines()"
   ]
  },
  {
   "cell_type": "code",
   "execution_count": 64,
   "metadata": {},
   "outputs": [
    {
     "name": "stdout",
     "output_type": "stream",
     "text": [
      "0 3 3 0 0 0 1 1 0 2 2 0\n"
     ]
    }
   ],
   "source": [
    "S = list((map(lambda x: x=='R', inputs[0].rstrip())))\n",
    "n = len(S)\n",
    "\n",
    "loops, switches = [], []\n",
    "state = 1\n",
    "for i, s in enumerate(S):\n",
    "    if state ^ s:\n",
    "        if state:\n",
    "            loops.append(i)\n",
    "        else:\n",
    "            switches.append(i)\n",
    "        state = not state\n",
    "switches.append(n)\n",
    "\n",
    "childs = [0]*n\n",
    "prev_j = 0\n",
    "for i, j in zip(loops, switches):\n",
    "    delta = j - prev_j\n",
    "    if i + j % 2:\n",
    "        childs[i-1] = (delta+1) // 2\n",
    "        childs[i] = delta // 2\n",
    "    else:\n",
    "        childs[i-1] = delta // 2\n",
    "        childs[i] = (delta+1) // 2\n",
    "    prev_j = j\n",
    "print(*childs)"
   ]
  },
  {
   "cell_type": "markdown",
   "metadata": {},
   "source": [
    "# [129 Lamp](https://atcoder.jp/contests/abc129/tasks/abc129_d)"
   ]
  },
  {
   "cell_type": "raw",
   "metadata": {},
   "source": [
    "import sys\n",
    "inputs = sys.stdin.readlines()"
   ]
  },
  {
   "cell_type": "code",
   "execution_count": 27,
   "metadata": {},
   "outputs": [
    {
     "name": "stdout",
     "output_type": "stream",
     "text": [
      "13\n"
     ]
    }
   ],
   "source": [
    "h, w = map(int, inputs[0].split())\n",
    "S = [list(map(lambda x: 0 if x=='#' else 1, row)) for row in inputs[1:]]\n",
    "\n",
    "w_costs = [[0]*w for _ in range(h)]\n",
    "h_costs = [[0]*w for _ in range(h)]\n",
    "\n",
    "def row_search(x, y):\n",
    "    x_, cost = x, 0\n",
    "    while x+1 < w and S[y][x+1]:\n",
    "        x += 1\n",
    "        cost += 1\n",
    "    while x_ <= x:\n",
    "        w_costs[y][x] = cost\n",
    "        x -= 1\n",
    "def col_search(x, y):\n",
    "    y_, cost = y, 0\n",
    "    while y+1 < h and S[y+1][x]:\n",
    "        y += 1\n",
    "        cost += 1\n",
    "    while y_ <= y:\n",
    "        h_costs[y][x] = cost\n",
    "        y -= 1\n",
    "\n",
    "for y in range(h):\n",
    "    for x in range(w):\n",
    "        if S[y][x]:\n",
    "            if w_costs[y][x] == 0:\n",
    "                row_search(x, y)\n",
    "            if h_costs[y][x] == 0:\n",
    "                col_search(x, y)\n",
    "\n",
    "ans = 0\n",
    "for y in range(h):\n",
    "    for x in range(w):\n",
    "        ans = max(ans, w_costs[y][x] + h_costs[y][x] + 1)\n",
    "print(ans)"
   ]
  },
  {
   "cell_type": "markdown",
   "metadata": {},
   "source": [
    "# [130 Enough Array](https://atcoder.jp/contests/abc130/tasks/abc130_d)"
   ]
  },
  {
   "cell_type": "raw",
   "metadata": {},
   "source": [
    "import sys\n",
    "inputs = sys.stdin.readlines()"
   ]
  },
  {
   "cell_type": "code",
   "execution_count": 38,
   "metadata": {},
   "outputs": [
    {
     "name": "stdout",
     "output_type": "stream",
     "text": [
      "36\n"
     ]
    }
   ],
   "source": [
    "n, k = map(int, inputs[0].split())\n",
    "A = list(map(int, inputs[1].split()))\n",
    "\n",
    "l, r, s, c = 0, 0, 0, 0\n",
    "while l < n and r <= n:\n",
    "    if s >= k:\n",
    "        c += n - r + 1\n",
    "        s -= A[l]\n",
    "        l += 1\n",
    "    else:\n",
    "        if r == n:\n",
    "            break\n",
    "        s += A[r]\n",
    "        r += 1\n",
    "print(c)"
   ]
  },
  {
   "cell_type": "markdown",
   "metadata": {},
   "source": [
    "# [131 Megalomania](https://atcoder.jp/contests/abc130/tasks/abc131_d)"
   ]
  },
  {
   "cell_type": "raw",
   "metadata": {},
   "source": [
    "import sys\n",
    "inputs = sys.stdin.readlines()"
   ]
  },
  {
   "cell_type": "code",
   "execution_count": 43,
   "metadata": {},
   "outputs": [
    {
     "name": "stdout",
     "output_type": "stream",
     "text": [
      "Yes\n"
     ]
    }
   ],
   "source": [
    "n = int(inputs[0])\n",
    "AB = []\n",
    "for s in inputs[1:]:\n",
    "    a, b = map(int, s.split())\n",
    "    AB.append((a, b))\n",
    "AB.sort(key=lambda x: x[1])\n",
    "s = 0\n",
    "for a, b in AB:\n",
    "    s += a\n",
    "    if s > b:\n",
    "        print('No')\n",
    "        break\n",
    "else:\n",
    "    print('Yes')"
   ]
  },
  {
   "cell_type": "markdown",
   "metadata": {},
   "source": [
    "# [132 Blue and Red Balls](https://atcoder.jp/contests/abc130/tasks/abc132_d)"
   ]
  },
  {
   "cell_type": "raw",
   "metadata": {},
   "source": [
    "import sys\n",
    "inputs = sys.stdin.readlines()\n",
    "\n",
    "def xgcd(a, b):\n",
    "    x0, y0, x1, y1 = 1, 0, 0, 1\n",
    "    while b != 0:\n",
    "        q, a, b = a // b, b, a % b\n",
    "        x0, x1 = x1, x0 - q * x1\n",
    "        y0, y1 = y1, y0 - q * y1\n",
    "    return a, x0, y0\n",
    "\n",
    "def modinv(a, mod):\n",
    "    g, x, y = xgcd(a, mod)\n",
    "    assert g == 1, 'modular inverse does not exist'\n",
    "    return x % mod\n",
    "\n",
    "factorials = [1]\n",
    "def factorial(n, mod):\n",
    "    # n! % mod\n",
    "    assert n >= 0, 'Argument Error! n is \"0 <= n\".'\n",
    "    if len(factorials) < n+1:\n",
    "        for i in range(len(factorials), n+1):\n",
    "            factorials.append(factorials[-1]*i % mod)\n",
    "    return factorials[n]\n",
    "\n",
    "def perm(n, r, mod):\n",
    "    # nPr % mod\n",
    "    assert n >= 0, 'Argument Error! n is \"0 <= n\".'\n",
    "    assert n >= r >= 0, 'Argument Error! r is \"0 <= r <= n\".'\n",
    "    return factorial(n, mod) * modinv(factorial(n-r, mod), mod) % mod\n",
    "\n",
    "def comb(n, r, mod):\n",
    "    # nCr % mod\n",
    "    assert n >= 0, 'Argument Error! n is \"0 <= n\".'\n",
    "    assert n >= r >= 0, 'Argument Error! r is \"0 <= r <= n\".'\n",
    "    \n",
    "    return perm(n, r, mod) * modinv(factorial(r, mod), mod) % mod"
   ]
  },
  {
   "cell_type": "code",
   "execution_count": 87,
   "metadata": {},
   "outputs": [
    {
     "name": "stdout",
     "output_type": "stream",
     "text": [
      "3\n",
      "6\n"
     ]
    }
   ],
   "source": [
    "n, k = map(int, inputs[0].split())\n",
    "MOD = 10 ** 9 + 7\n",
    "\n",
    "for i in range(1, k+1):\n",
    "    try:\n",
    "        print(comb(n-k+1, i, MOD)*comb(k-1, i-1, MOD) % MOD)\n",
    "    except:\n",
    "        print(0)"
   ]
  },
  {
   "cell_type": "markdown",
   "metadata": {},
   "source": [
    "# [133 Rain Flows into Dams](https://atcoder.jp/contests/abc130/tasks/abc133_d)"
   ]
  },
  {
   "cell_type": "raw",
   "metadata": {},
   "source": [
    "import sys\n",
    "import numpy as np\n",
    "inputs = sys.stdin.readlines()"
   ]
  },
  {
   "cell_type": "code",
   "execution_count": null,
   "metadata": {},
   "outputs": [],
   "source": [
    "n = int(inputs[0])\n",
    "A = np.array(list(map(int, inputs[1].split())))\n",
    "B = np.empty((n,), dtype=np.int)\n",
    "B[0] = (sum(A[::2])-sum(A[1::2])) // 2\n",
    "for i in range(1, n):\n",
    "    B[i] = A[i-1] - B[i-1]\n",
    "print(*(B*2))"
   ]
  },
  {
   "cell_type": "markdown",
   "metadata": {},
   "source": [
    "# [134 Preparing Boxes](https://atcoder.jp/contests/abc134/tasks/abc134_d)"
   ]
  },
  {
   "cell_type": "code",
   "execution_count": 22,
   "metadata": {},
   "outputs": [
    {
     "name": "stdout",
     "output_type": "stream",
     "text": [
      "1\n",
      "1\n"
     ]
    }
   ],
   "source": [
    "n = int(inputs[0])\n",
    "A = [0] + list(map(int, inputs[1].split()))\n",
    "B = [0]*(n+1)\n",
    "for i in range(n, 0, -1):\n",
    "    B[i] =(A[i] + sum(B[::i])) % 2\n",
    "\n",
    "print(sum(B))\n",
    "print(*(i for i, b in enumerate(B) if b))"
   ]
  },
  {
   "cell_type": "markdown",
   "metadata": {},
   "source": [
    "# [152 Handstand 2](https://atcoder.jp/contests/abc152/tasks/abc152_d)"
   ]
  },
  {
   "cell_type": "code",
   "execution_count": 10,
   "metadata": {},
   "outputs": [
    {
     "name": "stdout",
     "output_type": "stream",
     "text": [
      "400000008\n"
     ]
    }
   ],
   "source": [
    "n = int(inputs[0])\n",
    "d = defaultdict(int)\n",
    "for i in range(1, n+1):\n",
    "    x = str(i)\n",
    "    d[(int(x[0]), int(x[-1]))] += 1\n",
    "\n",
    "ans = 0\n",
    "for i in range(1, 10):\n",
    "    for j in range(1, 10):\n",
    "        ans += d[(i, j)] * d[(j, i)]\n",
    "print(ans)"
   ]
  }
 ],
 "metadata": {
  "kernelspec": {
   "display_name": "Environment (conda_atcoder_py38)",
   "language": "python",
   "name": "conda_atcoder_py38"
  },
  "language_info": {
   "codemirror_mode": {
    "name": "ipython",
    "version": 3
   },
   "file_extension": ".py",
   "mimetype": "text/x-python",
   "name": "python",
   "nbconvert_exporter": "python",
   "pygments_lexer": "ipython3",
   "version": "3.8.1"
  },
  "widgets": {
   "application/vnd.jupyter.widget-state+json": {
    "state": {
     "8948cef1c0e34a3fb20bf569162baf59": {
      "model_module": "@jupyter-widgets/controls",
      "model_module_version": "1.5.0",
      "model_name": "TextareaModel",
      "state": {
       "layout": "IPY_MODEL_970c564f7cbb4aaa9d717b233e5fae1e",
       "style": "IPY_MODEL_e17bfe2897cd443ab04d09b50ebf89ed",
       "value": "200000"
      }
     },
     "970c564f7cbb4aaa9d717b233e5fae1e": {
      "model_module": "@jupyter-widgets/base",
      "model_module_version": "1.2.0",
      "model_name": "LayoutModel",
      "state": {}
     },
     "e17bfe2897cd443ab04d09b50ebf89ed": {
      "model_module": "@jupyter-widgets/controls",
      "model_module_version": "1.5.0",
      "model_name": "DescriptionStyleModel",
      "state": {
       "description_width": ""
      }
     }
    },
    "version_major": 2,
    "version_minor": 0
   }
  }
 },
 "nbformat": 4,
 "nbformat_minor": 4
}
